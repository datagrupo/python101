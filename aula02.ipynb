{
 "cells": [
  {
   "cell_type": "markdown",
   "metadata": {},
   "source": [
    "# Curso de introdução a Linguagem de Programação Python: Tarde"
   ]
  },
  {
   "cell_type": "markdown",
   "metadata": {},
   "source": [
    "## Condicionais e Laços"
   ]
  },
  {
   "cell_type": "markdown",
   "metadata": {},
   "source": [
    "### Comando: for"
   ]
  },
  {
   "cell_type": "markdown",
   "metadata": {},
   "source": [
    "O comando <code>for</code> age executando um bloco de código para cada elemento do objeto que está sendo iterado. Podemos iterar sobre diferentes objetos que aprendemos anteriormente como listas, tuples ou strings. Vamos entender melhor seu conceito:\n",
    "\n",
    "Abaixo temos um formato geral para o comando <code>for</code>:\n",
    "\n",
    "    for item in algo:\n",
    "        faça alguma ação\n",
    "\n",
    "Vale salientar que o 'algo' pode ser qualquer oisa que seja iterável.\n",
    "Vamos aprender como trabalhar com o comando <code>for</code> para uma variedade de objetos. Começaremos com exemplos mais simples..."
   ]
  },
  {
   "cell_type": "markdown",
   "metadata": {},
   "source": [
    "__Exemplo 1__\n",
    "\n",
    "Comando for iterando nos elementos de uma lista:"
   ]
  },
  {
   "cell_type": "code",
   "execution_count": null,
   "metadata": {},
   "outputs": [],
   "source": [
    "lista_01 = [1,2,3,4,5,6,7,8,9,10]\n",
    "for num in lista_01:\n",
    "    print(num)"
   ]
  },
  {
   "cell_type": "markdown",
   "metadata": {},
   "source": [
    "Para o Exemplo 2, vamos relemebrar a função módulo. \n",
    "\n",
    "> M % N retorna o resto da divisão M/N. \n",
    "\n",
    "Vejamos alguns exemplos: "
   ]
  },
  {
   "cell_type": "code",
   "execution_count": null,
   "metadata": {},
   "outputs": [],
   "source": [
    "15 % 4\n",
    "# É 3 E o resto é 3"
   ]
  },
  {
   "cell_type": "code",
   "execution_count": null,
   "metadata": {},
   "outputs": [],
   "source": [
    "20 % 3\n",
    "# É 9 e o resto é 2"
   ]
  },
  {
   "cell_type": "code",
   "execution_count": null,
   "metadata": {},
   "outputs": [],
   "source": [
    "10 % 5\n",
    "# É 2 e o resto é 0"
   ]
  },
  {
   "cell_type": "markdown",
   "metadata": {},
   "source": [
    "__Exemplo 2__\n",
    "\n",
    "Comando for iterando nos elementos de uma lista para obter apenas os elementos pares:"
   ]
  },
  {
   "cell_type": "code",
   "execution_count": null,
   "metadata": {},
   "outputs": [],
   "source": [
    "lista_02 = [11,12,13,14,15,16,17,18,19,20]\n",
    "for num in lista_02:\n",
    "    if num % 2 == 0:\n",
    "        print(num)"
   ]
  },
  {
   "cell_type": "markdown",
   "metadata": {},
   "source": [
    "__Exemplo 3__\n",
    "\n",
    "Podemos incluir um <code>else</code> no código também:"
   ]
  },
  {
   "cell_type": "code",
   "execution_count": null,
   "metadata": {
    "scrolled": true
   },
   "outputs": [],
   "source": [
    "lista_02 = [11,12,13,14,15,16,17,18,19,20]\n",
    "for num in lista_02:\n",
    "    print(num)\n",
    "    if num % 2 == 0:\n",
    "        print('Par')\n",
    "    else:\n",
    "        print('Ímpar')"
   ]
  },
  {
   "cell_type": "markdown",
   "metadata": {},
   "source": [
    "__Atividade__\n",
    "Montar um programa que resulte em um output do tipo:\n",
    "\n",
    "    11 - Ímpar\n",
    "    12 - Par\n",
    "    13 - Ímpar\n",
    "    14 - Par\n",
    "    15 - Ímpar\n",
    "    .\n",
    "    .\n",
    "    ."
   ]
  },
  {
   "cell_type": "markdown",
   "metadata": {},
   "source": [
    "__Exemplo 4__\n",
    "\n",
    "Podemos criar também um laço de <code>for</code> que soma todos elementos da lista:\n"
   ]
  },
  {
   "cell_type": "code",
   "execution_count": null,
   "metadata": {},
   "outputs": [],
   "source": [
    "lista_01 = [1,2,3,4,5,6,7,8,9,10]\n",
    "\n",
    "# Indicamos o valor da soma = 0 inicialmente.\n",
    "lista_soma = 0 \n",
    "for num in lista_01:\n",
    "    lista_soma = lista_soma + num\n",
    "\n",
    "print(lista_soma)"
   ]
  },
  {
   "cell_type": "markdown",
   "metadata": {},
   "source": [
    "Note que podemos utilizar <code>+=</code> visto anteriormente no curso:\n",
    "\n"
   ]
  },
  {
   "cell_type": "code",
   "execution_count": null,
   "metadata": {},
   "outputs": [],
   "source": [
    "lista_01 = [1,2,3,4,5,6,7,8,9,10]\n",
    "\n",
    "# Soma começa com 0\n",
    "lista_soma = 0 \n",
    "for num in lista_01:\n",
    "    lista_soma += num\n",
    "\n",
    "print(lista_soma)"
   ]
  },
  {
   "cell_type": "markdown",
   "metadata": {},
   "source": [
    "__Exemplo 5__\n",
    "\n",
    "Agora iremos abordar o <code>for</code> utilizando strings. \n",
    "\n",
    "Vejamos o seguinte exemplo:"
   ]
  },
  {
   "cell_type": "code",
   "execution_count": null,
   "metadata": {},
   "outputs": [],
   "source": [
    "for letter in 'Um texto':\n",
    "    print(letter)"
   ]
  },
  {
   "cell_type": "markdown",
   "metadata": {},
   "source": [
    "__Exemplo 6__\n",
    "\n",
    "Supondo que desejamos separar as vogais do texto dos demais caracteres:"
   ]
  },
  {
   "cell_type": "code",
   "execution_count": null,
   "metadata": {},
   "outputs": [],
   "source": [
    "for letter in 'Um texto':\n",
    "    if letter in ['a','e','i','o','u','A','E','I','O','U']:\n",
    "        print(letter + ' - vogal')\n",
    "    else:\n",
    "        print(letter + ' - não é vogal')"
   ]
  },
  {
   "cell_type": "markdown",
   "metadata": {},
   "source": [
    "__Exemplo 7__\n",
    "\n",
    "O uso do comando <code>for</code> quando itera em uma tupla é similar aos exemplor anteriores:"
   ]
  },
  {
   "cell_type": "code",
   "execution_count": null,
   "metadata": {},
   "outputs": [],
   "source": [
    "tupl = (2,4,6,8,10,12)\n",
    "\n",
    "for p in tupl:\n",
    "    print(p)"
   ]
  },
  {
   "cell_type": "markdown",
   "metadata": {},
   "source": [
    "__Exemplo 8__\n",
    "\n",
    "E se tivermos tuplas como elementos de uma lista?"
   ]
  },
  {
   "cell_type": "code",
   "execution_count": null,
   "metadata": {},
   "outputs": [],
   "source": [
    "lista_03 = [(1,2),(3,4),(5,6)]\n",
    "for num in lista_03:\n",
    "    print(num)"
   ]
  },
  {
   "cell_type": "markdown",
   "metadata": {},
   "source": [
    "__Exemplo 9__\n",
    "\n",
    "É possível definir mais de um nível de comando <code>for</code>:"
   ]
  },
  {
   "cell_type": "code",
   "execution_count": null,
   "metadata": {},
   "outputs": [],
   "source": [
    "lista_03 = [(1,2,3),(3,4,7),(5,6,11)]\n",
    "for num in lista_03:\n",
    "    for valor in num:\n",
    "        print('Valor = ' + str(valor))\n",
    "    print('---')"
   ]
  },
  {
   "cell_type": "code",
   "execution_count": null,
   "metadata": {},
   "outputs": [],
   "source": [
    "#utilizando o comando list.reverse(), teremos uma inversão nos elementos da lista.\n",
    "\n",
    "list_00 = [(1,2),(3,4),(5,6)]\n",
    "list.reverse(list_00)\n",
    "for num in list_00:\n",
    "    for valor in num:\n",
    "        print('Valor = ', str(valor))\n",
    "print (list_00)"
   ]
  },
  {
   "cell_type": "markdown",
   "metadata": {},
   "source": [
    "Agora iremos abordar o <code>for</code> utilizando dicionários."
   ]
  },
  {
   "cell_type": "markdown",
   "metadata": {},
   "source": [
    "__Exemplo 10__"
   ]
  },
  {
   "cell_type": "code",
   "execution_count": null,
   "metadata": {},
   "outputs": [],
   "source": [
    "di = {'k1':1, 'k2':2, 'k3':3}\n",
    "for item in di:\n",
    "    print(item)"
   ]
  },
  {
   "cell_type": "markdown",
   "metadata": {},
   "source": [
    "Observe que acessamos apenas as chaves do dicionário.\n",
    "\n",
    "Como acessar os valores do dicionário? \n",
    "\n",
    "Ou melhor: Como acessar chaves (keys), valores (values) ou ambos?\n",
    "\n",
    "Para isso, há 3 métodos com nomes bastante intuitivos:\n",
    "> <code>.keys()</code>, \n",
    "> <code>.values()</code>,\n",
    "> <code>.items()</code>.\n",
    "\n",
    "Partindo para exemplos..."
   ]
  },
  {
   "cell_type": "markdown",
   "metadata": {},
   "source": [
    "__Exemplo 11__\n",
    "\n",
    "Vamos utlizar <code>.items()</code> para visualizar os items e os valores do dicionário:"
   ]
  },
  {
   "cell_type": "code",
   "execution_count": null,
   "metadata": {},
   "outputs": [],
   "source": [
    "di = {'k1':1, 'k2':2, 'k3':3}\n",
    "di.items()"
   ]
  },
  {
   "cell_type": "markdown",
   "metadata": {},
   "source": [
    "Para \"desempacotar\" o dicionário:"
   ]
  },
  {
   "cell_type": "code",
   "execution_count": null,
   "metadata": {},
   "outputs": [],
   "source": [
    "for s,v in di.items():\n",
    "    print(s + ' - ' + str(v))"
   ]
  },
  {
   "cell_type": "markdown",
   "metadata": {},
   "source": [
    "__Exemplo 12__\n",
    "\n",
    "Se você realmente quiser obter a lista das chaves do dicionário, utilize a função <code>.keys()</code>:"
   ]
  },
  {
   "cell_type": "code",
   "execution_count": null,
   "metadata": {},
   "outputs": [],
   "source": [
    "di = {'k1':1, 'k2':2, 'k3':3}\n",
    "print(di.keys())"
   ]
  },
  {
   "cell_type": "markdown",
   "metadata": {},
   "source": [
    "__Exemplo 13__\n",
    "\n",
    "Se você realmente quiser obter a lista dos valores do dicionário, utilize a função <code>.values()</code>:"
   ]
  },
  {
   "cell_type": "code",
   "execution_count": null,
   "metadata": {},
   "outputs": [],
   "source": [
    "di = {'k1':1, 'k2':2, 'k3':3}\n",
    "print(di.values())"
   ]
  },
  {
   "cell_type": "markdown",
   "metadata": {},
   "source": [
    "### Comando: while"
   ]
  },
  {
   "cell_type": "markdown",
   "metadata": {},
   "source": [
    "O comando <code>while</code> é amplamente utilizado para fazer iterações. Um <code>while</code> vai executar repetidamente um bloco de código enquanto certa condição seja verdadeira. Uma forma geral de representarmos um <code>while</code> é:\n",
    "\n",
    "    while teste:\n",
    "       código\n",
    "\n",
    "Uma diferença do comando <code>while</code> da linguagem Python em relação as outras linguagens é a possibilidade de criar um bloco de código que será executado quando a condição testada pelo <code>while</code> deixar de ser satisfeita. O novo template de uso fica:\n",
    "\n",
    "    while teste:\n",
    "       código\n",
    "    else:\n",
    "        declaração final de código\n",
    "        \n",
    "Vamos olhar alguns exemplos de <code>while</code>. "
   ]
  },
  {
   "cell_type": "markdown",
   "metadata": {},
   "source": [
    "__Exemplo 01__\n",
    "\n",
    "Começaremos com um valor de y = 0 e o programa irá acrescentar 1 ao valor inicial."
   ]
  },
  {
   "cell_type": "code",
   "execution_count": null,
   "metadata": {},
   "outputs": [],
   "source": [
    "y = 0\n",
    "while y < 8:\n",
    "    print('y é atualmente: ',y)\n",
    "    print('y é menor que 8!')\n",
    "    y+=1\n"
   ]
  },
  {
   "cell_type": "markdown",
   "metadata": {},
   "source": [
    "Note que quando o valor chegou em 8, o laço terminou. \n",
    "\n",
    "Vamos agora utilizar o comando <code>else</code> para dar um aviso de quando o <code>while</code> parou."
   ]
  },
  {
   "cell_type": "code",
   "execution_count": null,
   "metadata": {},
   "outputs": [],
   "source": [
    "y = 0\n",
    "while y < 8:\n",
    "    print('y é atualmente: ',y)\n",
    "    print('y é menor que 8!')\n",
    "    y+=1\n",
    "else:\n",
    "    print('y é atualmente: ',y)\n",
    "    print('Fim do programa')"
   ]
  },
  {
   "cell_type": "markdown",
   "metadata": {},
   "source": [
    "### Comandos: break, continue, pass"
   ]
  },
  {
   "cell_type": "markdown",
   "metadata": {},
   "source": [
    "Podemos usar <code>break</code>, <code>continue</code> e <code>pass</code> nos laços para realizar algumas funções específicas. Podemos definí-los da seguinte forma:\n",
    "\n",
    "    break: Termina o laço atual.\n",
    "    continue: Vai para a próxima iteração do laço atual.\n",
    "    pass: Não faz nada.\n",
    "    \n",
    "Pergunta:\n",
    "\n",
    "Para que serve pass?"
   ]
  },
  {
   "cell_type": "markdown",
   "metadata": {},
   "source": [
    "Utilizando esses códigos com <code>while</code>, podemos atualizar nosso template:   \n",
    "\n",
    "    while teste_do_laço: \n",
    "\n",
    "        if teste_parada: \n",
    "            break\n",
    "        if teste_ignora: \n",
    "            continue\n",
    "        executa código\n",
    "        \n",
    "    else:\n",
    "        executa código de finalização\n",
    "\n",
    "<code>break</code> and <code>continue</code> podem aparecer em qualquer lugar dentro do corpo do laço, porém geralmente utiliza-se juntamente com um <code>if</code> para realizar uma ação baseada em uma condição. \n",
    "\n",
    "Vejamos alguns exemplos..."
   ]
  },
  {
   "cell_type": "markdown",
   "metadata": {},
   "source": [
    "__Exemplo 01__\n",
    "\n",
    "Explique o resultado obtido para o código abaixo."
   ]
  },
  {
   "cell_type": "code",
   "execution_count": null,
   "metadata": {},
   "outputs": [],
   "source": [
    "y = 0\n",
    "while y < 8:\n",
    "    if y==4:\n",
    "        print('y==4')\n",
    "        y+=1\n",
    "        continue\n",
    "    print('continuando a soma...')\n",
    "    print('y é atualmente: ',y)\n",
    "    print('y é menor que 8!')\n",
    "    y+=1\n",
    "    if y==6:\n",
    "        print('y==6')\n",
    "        break\n",
    "else:\n",
    "    print('Terminou!')"
   ]
  },
  {
   "cell_type": "markdown",
   "metadata": {},
   "source": [
    "Note que o print a função <code>else</code> não foi exibida no programa. Isso acontece porque o <code>break</code> para e encerra o programa antes dele ser executado.\n",
    "\n",
    "__Cuidado!__\n",
    "\n",
    "Alguns códigos não devem ser rodados em sua máquina, porque você pode cair em um loop infinito. "
   ]
  },
  {
   "cell_type": "code",
   "execution_count": null,
   "metadata": {},
   "outputs": [],
   "source": [
    "# NÃO RODAR ESSE CÓDIGO!! \n",
    "#while True:\n",
    "    #print(\"Você está preso em um loop infinito!\")"
   ]
  },
  {
   "cell_type": "markdown",
   "metadata": {},
   "source": [
    "## Tipos Complexos de Dados"
   ]
  },
  {
   "cell_type": "markdown",
   "metadata": {},
   "source": [
    "### Tipo Set (Conjunto)"
   ]
  },
  {
   "cell_type": "markdown",
   "metadata": {},
   "source": [
    "O que são Sets?\n",
    "> É um conjunto não ordenado, não duplicado e imutável.\n",
    "\n",
    "Como são usados?\n",
    "> Tem uso normalmente em testes de associação e eliminação de entradas duplicadas.\n",
    "Definir objetos também suportam operações matemáticas como União, interseção, diferença e diferença simétrica."
   ]
  },
  {
   "cell_type": "code",
   "execution_count": null,
   "metadata": {},
   "outputs": [],
   "source": [
    "A = set('Python')\n",
    "B = set('Programação')\n",
    "print('A = ', A)\n",
    "print('B = ', B)\n",
    "print('A - B = ', A - B)\n",
    "print('A | B = ', A | B)\n",
    "print('A & B = ', A & B)\n",
    "print('A ^ B = ', A ^ B)"
   ]
  },
  {
   "cell_type": "markdown",
   "metadata": {},
   "source": [
    "### Tipo Tuple (Tupla)"
   ]
  },
  {
   "cell_type": "markdown",
   "metadata": {},
   "source": [
    " O que são Tuplas?\n",
    " \n",
    " > Tuple são sequências mas não são imutáveis. Logo, uma vez criada e declarada, não é mais possível fazer nenhuma alteração. Um exemplo básico de uma sequência imutável, é a string.\n",
    "\n",
    "Como declarar?\n",
    "\n",
    "> Declaramos seu valores entre parêntesis: ().\n",
    "\n",
    "         Exemplo: aluno = ('Joaozinho', 10, 9)\n",
    "                  nota (9.0,)---> Declaração de uma Tuple com apenas um elemento.\n",
    "         É possível criar uma tuple com que contem variáveis mutáveis, como listas.\n",
    "         \n",
    "Quando usar?\n",
    "\n",
    "> Deve ser usado quando você tiver valores, itens, que nunca serão mudados, constantes.\n",
    "         Tem duas vantangens sobre as listas: são mais rapidas e protegem os scripts de sofrerem alterações.\n",
    "         São usadas mais para dados heterogêneos, ou seja, itens de strings e números tudo junto na mesma tuple.\n",
    "         \n",
    "Como transformar uma tuple em lista e vice-versa?\n",
    "\n",
    "> Usamos a função list(), para transformar tuple em lista, e a função tuple(), para transformar lista em tuple."
   ]
  },
  {
   "cell_type": "code",
   "execution_count": null,
   "metadata": {},
   "outputs": [],
   "source": [
    "t = (\"x\",\"y\",10,9,\"c\")\n",
    "print('t = ',t)\n",
    "print('t[0] = ',t[0])\n",
    "print('t[1] = ',t[1])"
   ]
  },
  {
   "cell_type": "markdown",
   "metadata": {},
   "source": [
    "### Tipo dictionary (Dicionários)"
   ]
  },
  {
   "cell_type": "markdown",
   "metadata": {},
   "source": [
    " - O que são dicionários?\n",
    " > Esse tipo de dado é, sem dúvida, o mais poderoso e flexível, dentre as sequências. Os dicionários são do tipo desordenados, pois não são numerados por índice. Ao invés de índice, temos chaves.\n",
    " \n",
    " - O que são chaves?\n",
    " > São o que vocês quiserem ser. As chaves são índices também, mas pode ser qualquer número que você quiser ou uma string, por exemplo.\n",
    " \n",
    " - Como declarar?   "
   ]
  },
  {
   "cell_type": "code",
   "execution_count": null,
   "metadata": {},
   "outputs": [],
   "source": [
    "mensagens = {'Oi': 'Boa tarde a todos!', 'Idade': 'Quarenta e um anos.', 'Nome': 'Helon Braz.'}\n",
    "\n",
    "print(\"Saudação: \", mensagens['Oi'])\n",
    "print(\"Idade: \", mensagens['Idade'])\n",
    "print(\"Nome: \", mensagens['Nome'])"
   ]
  },
  {
   "cell_type": "markdown",
   "metadata": {},
   "source": [
    "\n",
    "\n",
    "### Criação inteligente de Tipos Complexos: List Comprehensions \n"
   ]
  },
  {
   "cell_type": "markdown",
   "metadata": {},
   "source": [
    "Oferece uma forma eficiente e suncinta de criar listas, tuplas e dicionários.\n",
    "\n",
    "O modo mais simples de entender é com um exemplo..."
   ]
  },
  {
   "cell_type": "markdown",
   "metadata": {},
   "source": [
    "List Comprehensions para criar um \"LIST\""
   ]
  },
  {
   "cell_type": "markdown",
   "metadata": {},
   "source": [
    "__Exemplo 1:__ inteiros"
   ]
  },
  {
   "cell_type": "code",
   "execution_count": null,
   "metadata": {},
   "outputs": [],
   "source": [
    "var = [x**2+2 for x in range(10)]\n",
    "print(type(var))\n",
    "\n",
    "print(var)"
   ]
  },
  {
   "cell_type": "markdown",
   "metadata": {},
   "source": [
    "__Exemplo 2:__ string"
   ]
  },
  {
   "cell_type": "code",
   "execution_count": null,
   "metadata": {},
   "outputs": [],
   "source": [
    "shark_letters = [letter for letter in 'shark']\n",
    "print(shark_letters)"
   ]
  },
  {
   "cell_type": "markdown",
   "metadata": {},
   "source": [
    "List Comprehensions para criar um \"TUPLAS\""
   ]
  },
  {
   "cell_type": "markdown",
   "metadata": {},
   "source": [
    "__Exemplo 3:__ inteiros"
   ]
  },
  {
   "cell_type": "code",
   "execution_count": null,
   "metadata": {},
   "outputs": [],
   "source": [
    "var = (x**2+2 for x in range(10))\n",
    "print(type(var))\n",
    "    \n",
    "# não funciona\n",
    "print(var)\n",
    "\n",
    "# forçando o generator a percorrer o List Comprehensions\n",
    "print(list(var))\n",
    "for item in var:\n",
    "    print(item)"
   ]
  },
  {
   "cell_type": "markdown",
   "metadata": {},
   "source": [
    "__Exemplo 4:__ string"
   ]
  },
  {
   "cell_type": "code",
   "execution_count": null,
   "metadata": {
    "scrolled": true
   },
   "outputs": [],
   "source": [
    "shark_letters = (letter for letter in 'shark')\n",
    "\n",
    "for item in shark_letters:\n",
    "    print(item)"
   ]
  },
  {
   "cell_type": "markdown",
   "metadata": {},
   "source": [
    "List Comprehensions para criar um \"DICIONÁRIOS\""
   ]
  },
  {
   "cell_type": "markdown",
   "metadata": {},
   "source": [
    "__Exemplo 5:__ inteiro, inteiro"
   ]
  },
  {
   "cell_type": "code",
   "execution_count": null,
   "metadata": {},
   "outputs": [],
   "source": [
    "var = {x:x**2+2 for x in range(100)}\n",
    "print(var)"
   ]
  },
  {
   "cell_type": "markdown",
   "metadata": {},
   "source": [
    "Tudo o que é feito com List Comprehensions poderia ser escrito com for!"
   ]
  },
  {
   "cell_type": "markdown",
   "metadata": {},
   "source": [
    "__Exemplo 6:__"
   ]
  },
  {
   "cell_type": "code",
   "execution_count": null,
   "metadata": {},
   "outputs": [],
   "source": [
    "var = {}\n",
    "for item in range(10):\n",
    "    var[item] = item**2 + 2\n",
    "print(var)"
   ]
  },
  {
   "cell_type": "markdown",
   "metadata": {},
   "source": [
    "__Exemplo 7:__"
   ]
  },
  {
   "cell_type": "code",
   "execution_count": null,
   "metadata": {},
   "outputs": [],
   "source": [
    "shark_letters = []\n",
    "for letter in 'shark':\n",
    "    shark_letters.append(letter)\n",
    "\n",
    "print(shark_letters)"
   ]
  },
  {
   "cell_type": "markdown",
   "metadata": {},
   "source": [
    "Toda List Comprehensive pode ser reescrito como um loop <code>for</code> mas nem todo Loop <code>for</code> pode ser escrito como uma List Comprehensive."
   ]
  },
  {
   "cell_type": "markdown",
   "metadata": {},
   "source": [
    "### Criação inteligente de Tipos Complexos: List Comprehensions usando condicionais"
   ]
  },
  {
   "cell_type": "markdown",
   "metadata": {},
   "source": [
    "__Exemplo 8:__"
   ]
  },
  {
   "cell_type": "code",
   "execution_count": null,
   "metadata": {},
   "outputs": [],
   "source": [
    "var = [x**2+2 for x in range(10) if x != 5 and x != 7]\n",
    "print(type(var))\n",
    "\n",
    "print(var)\n",
    "\n"
   ]
  },
  {
   "cell_type": "markdown",
   "metadata": {},
   "source": [
    "__Exemplo 9:__"
   ]
  },
  {
   "cell_type": "code",
   "execution_count": null,
   "metadata": {},
   "outputs": [],
   "source": [
    "fish_tuple = ('blowfish', 'clownfish', 'catfish', 'octopus')\n",
    "\n",
    "fish_list = [fish for fish in fish_tuple if fish != 'octopus']\n",
    "print(fish_list)"
   ]
  },
  {
   "cell_type": "code",
   "execution_count": null,
   "metadata": {},
   "outputs": [],
   "source": [
    "\n",
    "fish_tuple = ('blowfish', 'clownfish', 'catfish', 'octopus')\n",
    "\n",
    "fish_list = [fish for fish in fish_tuple if fish.startswith('c')]\n",
    "print(fish_list)"
   ]
  },
  {
   "cell_type": "markdown",
   "metadata": {},
   "source": [
    "__Exemplo 10:__"
   ]
  },
  {
   "cell_type": "code",
   "execution_count": null,
   "metadata": {},
   "outputs": [],
   "source": [
    "number_list = [x**2 for x in range(10) if x % 2 == 0]\n",
    "print(number_list)"
   ]
  },
  {
   "cell_type": "markdown",
   "metadata": {},
   "source": [
    "__Exemplo 11:__\n",
    "  \n",
    "Também podem ser feitos <code>if</code> aninhados:"
   ]
  },
  {
   "cell_type": "code",
   "execution_count": null,
   "metadata": {},
   "outputs": [],
   "source": [
    "number_list = [x for x in range(100) if x % 2 == 0 if x % 5 == 0]\n",
    "print(number_list)"
   ]
  },
  {
   "cell_type": "markdown",
   "metadata": {},
   "source": [
    "### List Comprehensions dentro de List Comprehensions"
   ]
  },
  {
   "cell_type": "markdown",
   "metadata": {},
   "source": [
    "Primeiro, vamos ver uma versão com laços aninhados:\n",
    "\n",
    "O código cria uma lista que itera em duas listas e realiza as operações matemáticas com base nelas."
   ]
  },
  {
   "cell_type": "code",
   "execution_count": null,
   "metadata": {},
   "outputs": [],
   "source": [
    "minha_lista = []\n",
    "\n",
    "for x in [20, 40, 60]:\n",
    "    for y in [2, 4, 6]:\n",
    "        minha_lista.append(x * y)\n",
    "\n",
    "print(minha_lista)"
   ]
  },
  {
   "cell_type": "markdown",
   "metadata": {},
   "source": [
    "Como esse código poderia ser feito usando List Comprehensions?"
   ]
  },
  {
   "cell_type": "code",
   "execution_count": null,
   "metadata": {},
   "outputs": [],
   "source": [
    "minha_lista = [x*y for x in [20, 10, 60] for y in [0, 4]]\n",
    "print(minha_lista)"
   ]
  },
  {
   "cell_type": "markdown",
   "metadata": {},
   "source": [
    "### Mais exemplos de List comprehension:"
   ]
  },
  {
   "cell_type": "markdown",
   "metadata": {},
   "source": [
    "__Exemplo 1:__"
   ]
  },
  {
   "cell_type": "code",
   "execution_count": null,
   "metadata": {},
   "outputs": [],
   "source": [
    "letras = [x for x in 'palavras']\n",
    "print(letras)"
   ]
  },
  {
   "cell_type": "markdown",
   "metadata": {},
   "source": [
    "__Exemplo 2:__"
   ]
  },
  {
   "cell_type": "code",
   "execution_count": null,
   "metadata": {},
   "outputs": [],
   "source": [
    "opp = [y**3 for y in range(0,5)]\n",
    "print(opp)"
   ]
  },
  {
   "cell_type": "code",
   "execution_count": null,
   "metadata": {},
   "outputs": [],
   "source": [
    "celsius = [0.0, 9.0, 25.5, 36.4, 100.0]\n",
    "f = [(9/5)*x + 32 for x in celsius] \n",
    "print(f)"
   ]
  },
  {
   "cell_type": "code",
   "execution_count": null,
   "metadata": {},
   "outputs": [],
   "source": [
    "celsius = [0.0, 9.0, 25.5, 36.4, 100.0]\n",
    "f = {x:(9/5)*x + 32 for x in celsius} \n",
    "print(f)\n",
    "\n",
    "f[100.0]"
   ]
  },
  {
   "cell_type": "markdown",
   "metadata": {},
   "source": [
    "__Atividade:__"
   ]
  },
  {
   "cell_type": "markdown",
   "metadata": {},
   "source": [
    "Considere que foi fornecida uma lista de temperaturas em graus celsius:\n",
    "> celsius = [0.0, 9.0, 25.5, 36.4, 100.0]\n",
    "\n",
    "Calcule as temperaturas fornecidas na escala fahrenheit, usando:\n",
    "\n",
    "a) Laços convencionais; e\n",
    "b) List comprehension.\n",
    "\n",
    "Lembrete:\n",
    "fahrenheit = (9/5)*celsius + 32"
   ]
  },
  {
   "cell_type": "code",
   "execution_count": null,
   "metadata": {},
   "outputs": [],
   "source": [
    "# Resposta a"
   ]
  },
  {
   "cell_type": "code",
   "execution_count": null,
   "metadata": {},
   "outputs": [],
   "source": [
    "# Resposta b"
   ]
  },
  {
   "cell_type": "markdown",
   "metadata": {},
   "source": [
    "### Cola"
   ]
  },
  {
   "cell_type": "code",
   "execution_count": null,
   "metadata": {},
   "outputs": [],
   "source": [
    "celsius = [0.0, 9.0, 25.5, 36.4, 100.0]\n",
    "for item in celsius:\n",
    "    tmp = (9/5)*item + 32\n",
    "    print('[%5.1f °C == %5.1f °F]' % (item,tmp))"
   ]
  },
  {
   "cell_type": "code",
   "execution_count": null,
   "metadata": {},
   "outputs": [],
   "source": [
    "celsius = [0.0, 9.0, 25.5, 36.4, 100.0]\n",
    "fahrenheit = [(9/5)*item + 32 for item in celsius]\n",
    "print(fahrenheit)"
   ]
  },
  {
   "cell_type": "markdown",
   "metadata": {},
   "source": [
    "## Funções\n",
    "\n",
    "\n"
   ]
  },
  {
   "cell_type": "markdown",
   "metadata": {},
   "source": [
    "### Operadores Úteis"
   ]
  },
  {
   "cell_type": "markdown",
   "metadata": {},
   "source": [
    "\n",
    "Existem algumas funções e operadores em python que não se enquadram nas catergorias abordadas até agora, então iremos abordar eles neste tópico."
   ]
  },
  {
   "cell_type": "markdown",
   "metadata": {},
   "source": [
    "### range¶\n",
    "     "
   ]
  },
  {
   "cell_type": "markdown",
   "metadata": {},
   "source": [
    "A função range nos permite gerar uma lista de valores integrais, e isso pode ser muito útil. Há 3 parâmetros nessa função que podem ser utilizados, estes são (início, fim, step). Vamos ver alguns exemplos para um melhor entendimento.  "
   ]
  },
  {
   "cell_type": "code",
   "execution_count": null,
   "metadata": {},
   "outputs": [],
   "source": [
    "range(0,11)"
   ]
  },
  {
   "cell_type": "markdown",
   "metadata": {},
   "source": [
    "Note que podemos isso é uma função de gerar valores, então devemos fazer uma lista desses valores. Para fazer isso utilizaremos list() antes da nossa função <code>range</code>. Vale salientar que a função range vai gerar informação e pra isso não é necessário salvar essa informação na memória."
   ]
  },
  {
   "cell_type": "code",
   "execution_count": null,
   "metadata": {},
   "outputs": [],
   "source": [
    "# Note que dessa forma o número 15 não será acrescentado na nossa lista.\n",
    "list(range(0,15))"
   ]
  },
  {
   "cell_type": "code",
   "execution_count": null,
   "metadata": {},
   "outputs": [],
   "source": [
    "list(range(0,9))"
   ]
  },
  {
   "cell_type": "code",
   "execution_count": null,
   "metadata": {},
   "outputs": [],
   "source": [
    "# O terceiro parâmetro é o step.\n",
    "# É simplesmente o pulo/passo que o programa vai de um valor ao outro.\n",
    "\n",
    "list(range(0,15,3))"
   ]
  },
  {
   "cell_type": "code",
   "execution_count": null,
   "metadata": {},
   "outputs": [],
   "source": [
    "list(range(0,104,10))"
   ]
  },
  {
   "cell_type": "markdown",
   "metadata": {},
   "source": [
    "### enumerate\n",
    "\n"
   ]
  },
  {
   "cell_type": "markdown",
   "metadata": {},
   "source": [
    "<code>enumerate</code> é uma função bastante utilizada com <code>for</code> loops. Vamos dar uma olhada na estrutura a seguir:"
   ]
  },
  {
   "cell_type": "code",
   "execution_count": null,
   "metadata": {},
   "outputs": [],
   "source": [
    "contagem_posição = 0\n",
    "\n",
    "for letter in 'abcde':\n",
    "    print(\"Na posição {} a letra é {}\".format(contagem_posição,letter))\n",
    "    contagem_posição += 1"
   ]
  },
  {
   "cell_type": "code",
   "execution_count": null,
   "metadata": {},
   "outputs": [],
   "source": [
    "#Agora vamos usar a função enumerate com um tuple:\n",
    "\n",
    "for i,letter in enumerate('abcde'):\n",
    "    print(\"Na posição {} a letra é {}\".format(i,letter))"
   ]
  },
  {
   "cell_type": "markdown",
   "metadata": {},
   "source": [
    "Podemos transformar esses formatos em uma lista."
   ]
  },
  {
   "cell_type": "code",
   "execution_count": null,
   "metadata": {},
   "outputs": [],
   "source": [
    "list(enumerate('abcde'))"
   ]
  },
  {
   "cell_type": "markdown",
   "metadata": {},
   "source": [
    "### zip\n"
   ]
  },
  {
   "cell_type": "markdown",
   "metadata": {},
   "source": [
    "Agora iremos falar da função <code>zip()</code>, que terá o objetivo de compactar duas listas."
   ]
  },
  {
   "cell_type": "code",
   "execution_count": 9,
   "metadata": {},
   "outputs": [
    {
     "data": {
      "text/plain": [
       "<zip at 0x7f32843e3e48>"
      ]
     },
     "execution_count": 9,
     "metadata": {},
     "output_type": "execute_result"
    }
   ],
   "source": [
    "lista_01 = [1,2,3,4,5,6,7]\n",
    "lista_02 = ['a','b','c','d','e']\n",
    "zip(lista_01,lista_02)"
   ]
  },
  {
   "cell_type": "code",
   "execution_count": null,
   "metadata": {},
   "outputs": [],
   "source": [
    "#Acessando a lista temos:\n",
    "list(zip(lista_01,lista_02))"
   ]
  },
  {
   "cell_type": "markdown",
   "metadata": {},
   "source": [
    "Podemos também utilizar um <code>for</code> loop para expressar a nossa lista de tuples."
   ]
  },
  {
   "cell_type": "code",
   "execution_count": null,
   "metadata": {},
   "outputs": [],
   "source": [
    "for item_1, item_2 in zip(lista_01,lista_02):\n",
    "    print('Para esse tuple, o primeiro item foi {} e o segundo item foi {}'.format(item_1,item_2))"
   ]
  },
  {
   "cell_type": "markdown",
   "metadata": {},
   "source": [
    "### Operador in\n",
    "\n"
   ]
  },
  {
   "cell_type": "markdown",
   "metadata": {},
   "source": [
    "Já vimos anteriormente esse operador dentro de um for loop, mas podemos utiliza-lo para saber se um elemento está dentro de uma lista, por exemplo."
   ]
  },
  {
   "cell_type": "code",
   "execution_count": null,
   "metadata": {},
   "outputs": [],
   "source": [
    "'p' in ['p','q','r']"
   ]
  },
  {
   "cell_type": "code",
   "execution_count": null,
   "metadata": {},
   "outputs": [],
   "source": [
    "'n' in [1,2,3]"
   ]
  },
  {
   "cell_type": "markdown",
   "metadata": {},
   "source": [
    "### min and max\n",
    "\n"
   ]
  },
  {
   "cell_type": "markdown",
   "metadata": {},
   "source": [
    "Serve para checar rapidamente o valor mínimo e máximo de uma lista."
   ]
  },
  {
   "cell_type": "code",
   "execution_count": 13,
   "metadata": {},
   "outputs": [],
   "source": [
    "minha_lista = [1,2,3,4,5]"
   ]
  },
  {
   "cell_type": "code",
   "execution_count": null,
   "metadata": {},
   "outputs": [],
   "source": [
    "min(minha_lista)"
   ]
  },
  {
   "cell_type": "code",
   "execution_count": null,
   "metadata": {},
   "outputs": [],
   "source": [
    "max(minha_lista)"
   ]
  },
  {
   "cell_type": "code",
   "execution_count": null,
   "metadata": {},
   "outputs": [],
   "source": [
    "sum(minha_lista)"
   ]
  },
  {
   "cell_type": "code",
   "execution_count": null,
   "metadata": {},
   "outputs": [],
   "source": [
    "sum(minha_lista)/len(minha_lista)"
   ]
  },
  {
   "cell_type": "markdown",
   "metadata": {},
   "source": [
    "### biblioteca random\n",
    "\n"
   ]
  },
  {
   "cell_type": "markdown",
   "metadata": {},
   "source": [
    "Existe uma biblioteca já no python chamada random. Ela possui várias funções, mas por enquanto só mostraremos duas delas."
   ]
  },
  {
   "cell_type": "code",
   "execution_count": 11,
   "metadata": {},
   "outputs": [],
   "source": [
    "from random import shuffle"
   ]
  },
  {
   "cell_type": "code",
   "execution_count": 14,
   "metadata": {},
   "outputs": [],
   "source": [
    "# Note que ao executar esse código não teremos nenhum retorno.\n",
    "\n",
    "shuffle(minha_lista)"
   ]
  },
  {
   "cell_type": "code",
   "execution_count": 16,
   "metadata": {},
   "outputs": [
    {
     "data": {
      "text/plain": [
       "[4, 1, 3, 5, 2]"
      ]
     },
     "execution_count": 16,
     "metadata": {},
     "output_type": "execute_result"
    }
   ],
   "source": [
    "minha_lista\n",
    "# Mas agora podemos notar que as posições dos elementos da lista foram alteradas."
   ]
  },
  {
   "cell_type": "code",
   "execution_count": 18,
   "metadata": {},
   "outputs": [],
   "source": [
    "from random import randint"
   ]
  },
  {
   "cell_type": "code",
   "execution_count": 19,
   "metadata": {},
   "outputs": [
    {
     "data": {
      "text/plain": [
       "163"
      ]
     },
     "execution_count": 19,
     "metadata": {},
     "output_type": "execute_result"
    }
   ],
   "source": [
    "# Retorna um valor aleatório e integral no range de [a,b], a e b incluídos\n",
    "randint(0,200)"
   ]
  },
  {
   "cell_type": "markdown",
   "metadata": {},
   "source": [
    "Utilizando o list comprenhension gere uma lista com 10 valores inteiros gerados de forma aleatória"
   ]
  },
  {
   "cell_type": "code",
   "execution_count": 20,
   "metadata": {},
   "outputs": [
    {
     "name": "stdout",
     "output_type": "stream",
     "text": [
      "[8, 27, 44, 7, 13, 39, 19, 7, 42, 25]\n"
     ]
    }
   ],
   "source": [
    "a = [randint(0,50) for x in range(10)]\n",
    "print(a)\n"
   ]
  },
  {
   "cell_type": "markdown",
   "metadata": {},
   "source": [
    "### input"
   ]
  },
  {
   "cell_type": "code",
   "execution_count": null,
   "metadata": {},
   "outputs": [],
   "source": [
    "input('Escreva alguma coisa aqui: ')"
   ]
  },
  {
   "cell_type": "markdown",
   "metadata": {},
   "source": [
    "## I/O Arquivos (Escrita e Leitura de Arquivos):\n"
   ]
  },
  {
   "cell_type": "markdown",
   "metadata": {},
   "source": [
    "<div class=\"alert alert-block alert-info\">Python consegue interagir com arquivos em seu computador. Esses arquivos podem ser um arquivo de aúdio, de texto, emails, documentos de excel, etc. \n",
    "É importante destacar que para interagir com certos tipos de arquivos, algumas bibliotecas e módulos devem ser instalados. Vale salientar também que esse método que estudaremos aqui apenas funciona para o jupyter notebook.</div>"
   ]
  },
  {
   "cell_type": "code",
   "execution_count": 30,
   "metadata": {},
   "outputs": [
    {
     "name": "stdout",
     "output_type": "stream",
     "text": [
      "Overwriting meuarquivo.txt\n"
     ]
    }
   ],
   "source": [
    "%%writefile meuarquivo.txt\n",
    "Isso eh um arquivo de teste\n"
   ]
  },
  {
   "cell_type": "code",
   "execution_count": 33,
   "metadata": {},
   "outputs": [
    {
     "name": "stdout",
     "output_type": "stream",
     "text": [
      "Overwriting meuarquivo.txt\n"
     ]
    }
   ],
   "source": [
    "%%writefile meuarquivo.txt\n",
    "Isso eh um arquivo de \n",
    "dsafadsfa\n",
    "asdfadsfasd\n",
    "asdfasdf"
   ]
  },
  {
   "cell_type": "markdown",
   "metadata": {},
   "source": [
    "### Abrindo um arquivo\n",
    "\n"
   ]
  },
  {
   "cell_type": "markdown",
   "metadata": {},
   "source": [
    "Agora vamos tentar abrir um arquivo que está no mesmo diretório deste notebook. Por enquanto iremos focar em arquivos que estão no mesmo diretório.\n",
    "\n",
    "<div class=\"alert alert-block alert-info\">Erros muito comuns são:\n",
    "1- Digitamos o nome do arquivo errado;\n",
    "2- O arquivo não está na mesma localização do jupyter notebook.</div>\n",
    "\n",
    "\n",
    "\n"
   ]
  },
  {
   "cell_type": "code",
   "execution_count": 24,
   "metadata": {},
   "outputs": [],
   "source": [
    "myfile = open('meuarquivo.txt')"
   ]
  },
  {
   "cell_type": "markdown",
   "metadata": {},
   "source": [
    "Para certificar-se o diretório onde o arquivo deverá ser salvo, utilize o comando **pwd**:\n"
   ]
  },
  {
   "cell_type": "code",
   "execution_count": 25,
   "metadata": {},
   "outputs": [
    {
     "data": {
      "text/plain": [
       "'/home/mauricio/Documents/PythonProjects/Curso_Python'"
      ]
     },
     "execution_count": 25,
     "metadata": {},
     "output_type": "execute_result"
    }
   ],
   "source": [
    "pwd"
   ]
  },
  {
   "cell_type": "markdown",
   "metadata": {},
   "source": [
    "### Localizações de arquivos\n"
   ]
  },
  {
   "cell_type": "markdown",
   "metadata": {},
   "source": [
    "Para abrir um arquivo em qualquer lugar do computador, simplesmente iremos adicionar o path completo do arquivo.\n",
    "Para windows utilizaremos duas \\ ficando na forma:\n",
    "    \n",
    "    myfile = open(\"C:\\\\Users\\\\Username\\\\Folder\\\\text.txt\")\n",
    "\n",
    "Para MacOS e Linux, utilizaremos / ficando na forma:\n",
    "    \n",
    "    myfile = open(\"/Users/YouUserName/Folder/meuarquivo.txt\")"
   ]
  },
  {
   "cell_type": "code",
   "execution_count": 35,
   "metadata": {},
   "outputs": [],
   "source": [
    "# Abre o arquivo que criamos anteriormente\n",
    "meu_arquivo = open('meuarquivo.txt')"
   ]
  },
  {
   "cell_type": "code",
   "execution_count": 37,
   "metadata": {},
   "outputs": [
    {
     "data": {
      "text/plain": [
       "''"
      ]
     },
     "execution_count": 37,
     "metadata": {},
     "output_type": "execute_result"
    }
   ],
   "source": [
    "# Podemos agora ler o arquivo\n",
    "meu_arquivo.read()"
   ]
  },
  {
   "cell_type": "code",
   "execution_count": 34,
   "metadata": {},
   "outputs": [
    {
     "data": {
      "text/plain": [
       "'sfasd\\nasdfasdf\\n'"
      ]
     },
     "execution_count": 34,
     "metadata": {},
     "output_type": "execute_result"
    }
   ],
   "source": [
    "# Mas e se tentarmos ler de novo?\n",
    "meu_arquivo.read()"
   ]
  },
  {
   "cell_type": "markdown",
   "metadata": {},
   "source": [
    "<div class=\"alert alert-block alert-info\">Isso acontece, porque imagine um cursor de leitura que vai do início ao fim do arquivo, e após ler o arquivo todo ele está no final do arquivo. Então se não tem mais nada para ler, temos o retorno ''.\n",
    "Para resetar o cursor de leitura utilizamos o seguinte código:</div>"
   ]
  },
  {
   "cell_type": "code",
   "execution_count": 44,
   "metadata": {},
   "outputs": [
    {
     "data": {
      "text/plain": [
       "0"
      ]
     },
     "execution_count": 44,
     "metadata": {},
     "output_type": "execute_result"
    }
   ],
   "source": [
    "# Coloca o cursor no início do arquivo\n",
    "meu_arquivo.seek(0)"
   ]
  },
  {
   "cell_type": "code",
   "execution_count": 45,
   "metadata": {},
   "outputs": [
    {
     "data": {
      "text/plain": [
       "['Isso eh um arquivo de \\n', 'dsafadsfa\\n', 'asdfadsfasd\\n', 'asdfasdf\\n']"
      ]
     },
     "execution_count": 45,
     "metadata": {},
     "output_type": "execute_result"
    }
   ],
   "source": [
    "# Agora conseguimos ler de novo\n",
    "meu_arquivo.readlines()"
   ]
  },
  {
   "cell_type": "markdown",
   "metadata": {},
   "source": [
    "Podemos utilizar o método readlines para ler linha por linha. Contudo cuidadoo com arquivos grande, já que tudo será armazenado na memória."
   ]
  },
  {
   "cell_type": "code",
   "execution_count": null,
   "metadata": {},
   "outputs": [],
   "source": [
    "# Readlines retorna uma lista de linhas no arquivo\n",
    "meu_arquivo.seek(0)\n",
    "meu_arquivo.readlines()"
   ]
  },
  {
   "cell_type": "markdown",
   "metadata": {},
   "source": [
    "Quando terminarmos de utilizar um arquivo, sempre feche-o, para isso utilize o comando:"
   ]
  },
  {
   "cell_type": "code",
   "execution_count": 46,
   "metadata": {},
   "outputs": [],
   "source": [
    "meu_arquivo.close()"
   ]
  },
  {
   "cell_type": "markdown",
   "metadata": {},
   "source": [
    "### Reescrevendo em um arquivo\n",
    "\n"
   ]
  },
  {
   "cell_type": "markdown",
   "metadata": {},
   "source": [
    "A função `open()` apenas nos permite ler os arquivos. Precisamos utilizar o argumento `'w'` para escrever no arquivo. Por exemplo: "
   ]
  },
  {
   "cell_type": "code",
   "execution_count": 47,
   "metadata": {},
   "outputs": [],
   "source": [
    "# Adicione um segundo argumento para a função, onde 'w' vem de write.\n",
    "# Utilizando 'w+', podemos ler e escrever no arquivo.\n",
    "\n",
    "meu_arquivo = open('meuarquivo.txt','w+')"
   ]
  },
  {
   "cell_type": "markdown",
   "metadata": {},
   "source": [
    "### <strong><font color='red'>Cuidado ao utilizar!</font></strong> \n",
    "Abrir um arquivo com `'w'` ou `'w+'` faz com que qualquer coisa que estivesse no arquivo original seja **deletado**"
   ]
  },
  {
   "cell_type": "code",
   "execution_count": 50,
   "metadata": {},
   "outputs": [
    {
     "data": {
      "text/plain": [
       "14"
      ]
     },
     "execution_count": 50,
     "metadata": {},
     "output_type": "execute_result"
    }
   ],
   "source": [
    "# Write to the file\n",
    "meu_arquivo.write('Uma nova linha')"
   ]
  },
  {
   "cell_type": "code",
   "execution_count": 51,
   "metadata": {},
   "outputs": [
    {
     "data": {
      "text/plain": [
       "'Uma nova linhaUma nova linha'"
      ]
     },
     "execution_count": 51,
     "metadata": {},
     "output_type": "execute_result"
    }
   ],
   "source": [
    "# Vamos ler novamente o arquivo\n",
    "meu_arquivo.seek(0)\n",
    "meu_arquivo.read()"
   ]
  },
  {
   "cell_type": "markdown",
   "metadata": {},
   "source": [
    "### Adicionando a um arquivo\n",
    "\n"
   ]
  },
  {
   "cell_type": "markdown",
   "metadata": {},
   "source": [
    "Utilizando o argumento `'a'` podemos abrir o documento e colocar o cursor no final dele, Assim, qualquer coisa que for escrita será adicionada ao documento inicial. Para isso utilizaremos `'w+'` e `'a+'`. Se o arquivo, não existir, um será criado."
   ]
  },
  {
   "cell_type": "code",
   "execution_count": 52,
   "metadata": {},
   "outputs": [
    {
     "data": {
      "text/plain": [
       "19"
      ]
     },
     "execution_count": 52,
     "metadata": {},
     "output_type": "execute_result"
    }
   ],
   "source": [
    "meu_arquivo = open('meuarquivo.txt','a+')\n",
    "meu_arquivo.write('\\nEsse texto será adicionado')\n",
    "meu_arquivo.write('\\nEssa linha também.')"
   ]
  },
  {
   "cell_type": "code",
   "execution_count": 53,
   "metadata": {},
   "outputs": [
    {
     "name": "stdout",
     "output_type": "stream",
     "text": [
      "Uma nova linhaUma nova linha\n",
      "Esse texto será adicionado\n",
      "Essa linha também.\n"
     ]
    }
   ],
   "source": [
    "meu_arquivo.seek(0)\n",
    "print(meu_arquivo.read())"
   ]
  },
  {
   "cell_type": "code",
   "execution_count": 56,
   "metadata": {},
   "outputs": [],
   "source": [
    "meu_arquivo.close()"
   ]
  },
  {
   "cell_type": "markdown",
   "metadata": {},
   "source": [
    "### Adicionando com `%%writefile`\n"
   ]
  },
  {
   "cell_type": "markdown",
   "metadata": {},
   "source": [
    "Utilizando o mesmo comando inicial, podemos fazer a mesma coisa:"
   ]
  },
  {
   "cell_type": "code",
   "execution_count": 57,
   "metadata": {},
   "outputs": [
    {
     "name": "stdout",
     "output_type": "stream",
     "text": [
      "Appending to meuarquivo.txt\n"
     ]
    }
   ],
   "source": [
    "%%writefile -a meuarquivo.txt\n",
    "\n",
    "Mais texto sendo colocado em meu arquivo.txt\n",
    "Outra linha aqui"
   ]
  },
  {
   "cell_type": "markdown",
   "metadata": {},
   "source": [
    "Para colocar a primeira linha como sendo uma nova linha, nesse comando, dê um enter. `\\n` Não irá funcionar nesse caso. "
   ]
  },
  {
   "cell_type": "markdown",
   "metadata": {},
   "source": [
    "# Mini Projeto"
   ]
  },
  {
   "cell_type": "markdown",
   "metadata": {},
   "source": [
    "## Removendo cabeçalhos de arquivos CSV"
   ]
  },
  {
   "cell_type": "markdown",
   "metadata": {},
   "source": [
    "Digamos que você tem o trabalho chato de remover o cabeçalho de centenas de arquivos CSV. Talvez o processamento utilize apenas os dados e não o cabeçalho no topo das colunas. Você poderia abrir cada arquivo, remover a primeira linha e depois re-salvar o arquivo. Esse processo levaria horas!\n",
    "\n",
    "Vamos escrever uma rotina que faça isso por nós."
   ]
  },
  {
   "cell_type": "markdown",
   "metadata": {},
   "source": [
    "Num nível mais alto, a rotina deve:\n",
    "> Encontrar todos os arquivos CSV de um diretório específico\n",
    "\n",
    "> Ler o conteúdo completo de cada arquivo\n",
    "\n",
    "> Escrever o conteúdo modificado em novos arquivos CSV"
   ]
  },
  {
   "cell_type": "markdown",
   "metadata": {},
   "source": [
    "### Os módulos csv e os\n",
    "\n",
    "> O módulo csv implementa classes para ler e escrever dados tabulares no formato csv (Comma Separated Values)\n",
    "\n",
    "> O módulo os fornece um meio simples de acessar funcionalidades dependentes do sistema operacional. Algumas delas são importantes nesse mini projeto.  "
   ]
  },
  {
   "cell_type": "markdown",
   "metadata": {},
   "source": [
    "__Exemplo de uso:__"
   ]
  },
  {
   "cell_type": "code",
   "execution_count": 58,
   "metadata": {},
   "outputs": [],
   "source": [
    "import csv, os"
   ]
  },
  {
   "cell_type": "code",
   "execution_count": 59,
   "metadata": {},
   "outputs": [
    {
     "data": {
      "text/plain": [
       "'mauricio'"
      ]
     },
     "execution_count": 59,
     "metadata": {},
     "output_type": "execute_result"
    }
   ],
   "source": [
    "os.getlogin()"
   ]
  },
  {
   "cell_type": "code",
   "execution_count": 60,
   "metadata": {},
   "outputs": [
    {
     "data": {
      "text/plain": [
       "4"
      ]
     },
     "execution_count": 60,
     "metadata": {},
     "output_type": "execute_result"
    }
   ],
   "source": [
    "os.cpu_count()"
   ]
  },
  {
   "cell_type": "code",
   "execution_count": 62,
   "metadata": {},
   "outputs": [
    {
     "data": {
      "text/plain": [
       "['Curso_Python', '.ipynb_checkpoints', 'Tensorflow']"
      ]
     },
     "execution_count": 62,
     "metadata": {},
     "output_type": "execute_result"
    }
   ],
   "source": [
    "os.listdir('....')"
   ]
  },
  {
   "cell_type": "markdown",
   "metadata": {},
   "source": [
    "### Uma solução para ler os arquivos de um diretório com a extensão csv\n",
    "\n",
    "Esse passo pode ser realizado usando uma propriedade, já vista neste curso, que permite verificar o final de uma string. A propriedade </code>str.endswith()</code>.\n",
    "\n"
   ]
  },
  {
   "cell_type": "code",
   "execution_count": 66,
   "metadata": {},
   "outputs": [
    {
     "name": "stdout",
     "output_type": "stream",
     "text": [
      "Removing header from NAICS_data_8499.csv...\n",
      "Removing header from NAICS_data_9448.csv...\n",
      "Removing header from NAICS_data_1218.csv...\n",
      "Removing header from NAICS_data_8522.csv...\n",
      "Removing header from NAICS_data_7427.csv...\n",
      "Removing header from NAICS_data_1817.csv...\n",
      "Removing header from NAICS_data_5341.csv...\n",
      "Removing header from NAICS_data_8832.csv...\n",
      "Removing header from NAICS_data_5060.csv...\n",
      "Removing header from NAICS_data_3494.csv...\n",
      "Removing header from NAICS_data_4618.csv...\n",
      "Removing header from NAICS_data_2183.csv...\n",
      "Removing header from NAICS_data_8397.csv...\n",
      "Removing header from NAICS_data_7833.csv...\n",
      "Removing header from NAICS_data_3144.csv...\n",
      "Removing header from NAICS_data_7913.csv...\n",
      "Removing header from NAICS_data_7338.csv...\n",
      "Removing header from NAICS_data_3237.csv...\n",
      "Removing header from NAICS_data_9012.csv...\n",
      "Removing header from NAICS_data_1973.csv...\n",
      "Removing header from NAICS_data_6700.csv...\n",
      "Removing header from NAICS_data_2427.csv...\n",
      "Removing header from NAICS_data_2988.csv...\n",
      "Removing header from NAICS_data_4125.csv...\n",
      "Removing header from NAICS_data_3731.csv...\n",
      "Removing header from NAICS_data_9250.csv...\n",
      "Removing header from NAICS_data_9834.csv...\n",
      "Removing header from NAICS_data_5899.csv...\n",
      "Removing header from NAICS_data_8196.csv...\n",
      "Removing header from NAICS_data_1751.csv...\n",
      "Removing header from NAICS_data_2346.csv...\n",
      "Removing header from NAICS_data_1952.csv...\n",
      "Removing header from NAICS_data_4699.csv...\n",
      "Removing header from NAICS_data_6181.csv...\n",
      "Removing header from NAICS_data_4610.csv...\n",
      "Removing header from NAICS_data_2828.csv...\n",
      "Removing header from NAICS_data_4329.csv...\n",
      "Removing header from NAICS_data_5890.csv...\n",
      "Removing header from NAICS_data_2092.csv...\n",
      "Removing header from NAICS_data_7765.csv...\n",
      "Removing header from NAICS_data_1657.csv...\n",
      "Removing header from NAICS_data_7830.csv...\n",
      "Removing header from NAICS_data_2648.csv...\n",
      "Removing header from NAICS_data_2799.csv...\n",
      "Removing header from NAICS_data_8700.csv...\n",
      "Removing header from NAICS_data_4213.csv...\n",
      "Removing header from NAICS_data_9103.csv...\n",
      "Removing header from NAICS_data_6637.csv...\n",
      "Removing header from NAICS_data_7388.csv...\n",
      "Removing header from NAICS_data_4938.csv...\n",
      "Removing header from NAICS_data_8749.csv...\n",
      "Removing header from NAICS_data_4525.csv...\n",
      "Removing header from NAICS_data_7677.csv...\n",
      "Removing header from NAICS_data_5992.csv...\n",
      "Removing header from NAICS_data_6397.csv...\n",
      "Removing header from NAICS_data_4436.csv...\n",
      "Removing header from NAICS_data_7102.csv...\n",
      "Removing header from NAICS_data_8760.csv...\n",
      "Removing header from NAICS_data_7535.csv...\n",
      "Removing header from NAICS_data_9986.csv...\n",
      "Removing header from NAICS_data_7226.csv...\n",
      "Removing header from NAICS_data_4896.csv...\n",
      "Removing header from NAICS_data_6904.csv...\n",
      "Removing header from NAICS_data_5631.csv...\n",
      "Removing header from NAICS_data_8085.csv...\n",
      "Removing header from NAICS_data_3044.csv...\n",
      "Removing header from NAICS_data_1048.csv...\n",
      "Removing header from NAICS_data_7028.csv...\n",
      "Removing header from NAICS_data_6842.csv...\n",
      "Removing header from NAICS_data_4031.csv...\n",
      "Removing header from NAICS_data_8131.csv...\n",
      "Removing header from NAICS_data_6161.csv...\n",
      "Removing header from NAICS_data_8015.csv...\n",
      "Removing header from NAICS_data_7383.csv...\n",
      "Removing header from NAICS_data_9139.csv...\n",
      "Removing header from NAICS_data_9165.csv...\n",
      "Removing header from NAICS_data_3495.csv...\n",
      "Removing header from NAICS_data_9825.csv...\n",
      "Removing header from NAICS_data_3073.csv...\n",
      "Removing header from NAICS_data_9066.csv...\n",
      "Removing header from NAICS_data_3197.csv...\n",
      "Removing header from NAICS_data_5364.csv...\n",
      "Removing header from NAICS_data_8545.csv...\n",
      "Removing header from NAICS_data_2066.csv...\n",
      "Removing header from NAICS_data_4215.csv...\n",
      "Removing header from NAICS_data_6335.csv...\n",
      "Removing header from NAICS_data_2959.csv...\n",
      "Removing header from NAICS_data_8403.csv...\n",
      "Removing header from NAICS_data_7845.csv...\n",
      "Removing header from NAICS_data_2994.csv...\n",
      "Removing header from NAICS_data_1814.csv...\n",
      "Removing header from NAICS_data_6329.csv...\n",
      "Removing header from NAICS_data_3075.csv...\n",
      "Removing header from NAICS_data_7642.csv...\n",
      "Removing header from NAICS_data_7138.csv...\n",
      "Removing header from NAICS_data_1889.csv...\n",
      "Removing header from NAICS_data_5305.csv...\n",
      "Removing header from NAICS_data_5092.csv...\n",
      "Removing header from NAICS_data_6493.csv...\n",
      "Removing header from NAICS_data_2993.csv...\n"
     ]
    }
   ],
   "source": [
    "import csv, os\n",
    "\n",
    "os.makedirs('headerRemoved2', exist_ok=True)\n",
    "\n",
    "listaA = [x for x in os.listdir('csvData') if x.endswith('.csv')]\n",
    "# realiza um loop verificando cada um dos arquivos do diretório\n",
    "for csvFilename in listaA:\n",
    " #   if not csvFilename.endswith('.csv'):\n",
    " #       continue # pula arquivos não-csv\n",
    "            \n",
    "    print('Removing header from ' + csvFilename + '...')\n",
    "\n",
    "    # Lê os arquivos csv (pulando a primeira linha).\n",
    "    csvRows = []\n",
    "    csvFileObj = open('./csvData/' + csvFilename)\n",
    "    readerObj = csv.reader(csvFileObj)\n",
    "    for row in readerObj:\n",
    "        if readerObj.line_num in [1,2,3,4,5]:\n",
    "            continue # Pula a primeira linha\n",
    "        csvRows.append(row)\n",
    "    csvFileObj.close()\n",
    "\n",
    "    # Escreve os novos arquivos csv\n",
    "    csvFileObj = open(os.path.join('headerRemoved2', csvFilename), 'w', newline='')\n",
    "    csvWriter = csv.writer(csvFileObj)\n",
    "    for row in csvRows:\n",
    "        csvWriter.writerow(row)\n",
    "    csvFileObj.close()"
   ]
  },
  {
   "cell_type": "code",
   "execution_count": null,
   "metadata": {},
   "outputs": [],
   "source": []
  }
 ],
 "metadata": {
  "kernelspec": {
   "display_name": "Python 3",
   "language": "python",
   "name": "python3"
  },
  "language_info": {
   "codemirror_mode": {
    "name": "ipython",
    "version": 3
   },
   "file_extension": ".py",
   "mimetype": "text/x-python",
   "name": "python",
   "nbconvert_exporter": "python",
   "pygments_lexer": "ipython3",
   "version": "3.6.8"
  },
  "toc": {
   "base_numbering": 1,
   "nav_menu": {},
   "number_sections": true,
   "sideBar": true,
   "skip_h1_title": true,
   "title_cell": "Table of Contents",
   "title_sidebar": "Contents",
   "toc_cell": true,
   "toc_position": {},
   "toc_section_display": true,
   "toc_window_display": false
  }
 },
 "nbformat": 4,
 "nbformat_minor": 2
}
