{
 "cells": [
  {
   "cell_type": "markdown",
   "metadata": {},
   "source": [
    "# Curso de introdução a Linguagem de Programação Python: Manhã"
   ]
  },
  {
   "cell_type": "markdown",
   "metadata": {},
   "source": [
    "## Python - Definição"
   ]
  },
  {
   "cell_type": "markdown",
   "metadata": {
    "raw_mimetype": "text/x-python",
    "slideshow": {
     "slide_type": "-"
    }
   },
   "source": [
    "Python é uma linguagem de programação interpretada, orientada a objetos, de alto nível, com semântica dinâmica e livre. A simplicidade do Python reduz a manutenção de um programa. Python suporta módulos e pacotes, que encoraja a programação modularizada e reuso de códigos.\n",
    "\n",
    "Este curso tem como objetivo ensinar os conceitos introdutórios."
   ]
  },
  {
   "cell_type": "markdown",
   "metadata": {},
   "source": [
    "## Índice"
   ]
  },
  {
   "cell_type": "markdown",
   "metadata": {
    "hidden": true
   },
   "source": [
    "- [Atalhos para edição](#Atalhos-para-edição:)\n",
    "- [Meu Primeiro Programa](#Meu-Primeiro-Programa)\n",
    "- [Rotinas Importantes](#Rotinas-Importantes)\n",
    "- [Operações Matemáticas](#Operações-Matemáticas)\n",
    "- [Números inteiros](#Números-inteiros)\n",
    "- [Números float](#Números-float)\n",
    "- [Números complexos](#Números-complexos)\n",
    "- [Outras bases decimais](#Outras-bases-decimais)\n",
    "- [Booleanos](#Booleanos)\n",
    "- [Strings](#Strings)\n",
    "- [Caracteres especias em Python](#Caracteres-especias-em-Python:)\n",
    "- [Lista](#Lista)\n",
    "- [Conectivos Lógicos](#Conectivos-Lógicos)\n",
    "- [Operadores de Comparação](#Operadores-de-Comparação)\n",
    "- [Conectivos Lógicos](#Conectivos-Lógicos)\n",
    "- [Condicionais](#Condicionais)"
   ]
  },
  {
   "cell_type": "markdown",
   "metadata": {},
   "source": [
    "## Atalhos para edição:"
   ]
  },
  {
   "cell_type": "markdown",
   "metadata": {},
   "source": [
    "- **Acrescentando Cell:** Insert -> Above (acima - A) ou Below (abaixo - B);  \n",
    " \n",
    "- **Mudando o tipo de Cell:** Cell -> Cell type -> Code (célula de código, onde você roda os códigos criados - Y) ou markdown (célula de comentário - M);  \n",
    " \n",
    "- **Rodando Cell code:** Run (Ctrl+Enter);   \n",
    "\n",
    "- **Apagando Cell:** Edit -> Delete Cells (D, D); \n",
    " \n",
    "- **Copiando, cortando e colando Cell:**  Edit -> Copy Cells (C) Edit -> Paste Cells (V) Edit -> Cut Cells (X)\n",
    " \n",
    "- **Salvando os notebooks:** File -> Save Notebook (Crtl+S)\n",
    " \n",
    "- **Auxilio para completar funções e nome de variáveis:** TAB\n",
    "\n",
    "- **Ajuda rápida para um tipo ou função:** Shift+TAB"
   ]
  },
  {
   "cell_type": "markdown",
   "metadata": {},
   "source": [
    "## Meu primeiro programa\n",
    "\n",
    "Vamos para o nosso primeiro programa, cujo o objetivo é imprimir na tela \"Hello World\"!\n",
    "Para isto, utilizaremos a função de imprimir do Python chamada de print()."
   ]
  },
  {
   "cell_type": "code",
   "execution_count": null,
   "metadata": {},
   "outputs": [],
   "source": [
    "print(\"Hello World!\")"
   ]
  },
  {
   "cell_type": "markdown",
   "metadata": {},
   "source": [
    "**Atividade 1:** Agora altere o programa para imprimir na tela seu nome completo."
   ]
  },
  {
   "cell_type": "code",
   "execution_count": null,
   "metadata": {},
   "outputs": [],
   "source": [
    "print('Jose Mauricio Ramos de Souza Neto')"
   ]
  },
  {
   "cell_type": "markdown",
   "metadata": {},
   "source": [
    "*Observação*\n",
    "\n",
    ">Existem um conjunto de regras criadas e utilizadas para organizar os códigos criados em Python, esse conjunto é conhecido por **PEP 8 -- Style Guide for Python Code**."
   ]
  },
  {
   "cell_type": "markdown",
   "metadata": {},
   "source": [
    "## Rotinas Importantes"
   ]
  },
  {
   "cell_type": "markdown",
   "metadata": {},
   "source": [
    "### Help():\n",
    "Caso se tenha alguma dúvida sobre alguma função, o jupyter possui uma linha de comando que descreve sua definição e uso."
   ]
  },
  {
   "cell_type": "code",
   "execution_count": null,
   "metadata": {},
   "outputs": [],
   "source": [
    "help(print)"
   ]
  },
  {
   "cell_type": "markdown",
   "metadata": {},
   "source": [
    "### Dir()\n",
    "Está função é usada para se descobrir quais nomes são definidos por um módulo. Ela devolve uma lista ordenada de strings.<br>\n",
    "Sem argumentos, dir() lista os nomes atualmente definidos:\n"
   ]
  },
  {
   "cell_type": "code",
   "execution_count": null,
   "metadata": {},
   "outputs": [],
   "source": [
    "Texto = \"Bom dia\"\n",
    "dir(Texto)"
   ]
  },
  {
   "cell_type": "markdown",
   "metadata": {},
   "source": [
    "### Type()\n",
    "Mostra o tipo do dado."
   ]
  },
  {
   "cell_type": "code",
   "execution_count": null,
   "metadata": {},
   "outputs": [],
   "source": [
    "print(type(Texto))        # Como comentar\n",
    "print(type(1))           \n",
    "print(type(0.99))"
   ]
  },
  {
   "cell_type": "code",
   "execution_count": null,
   "metadata": {},
   "outputs": [],
   "source": [
    "a=10.\n",
    "print(type(a))"
   ]
  },
  {
   "cell_type": "markdown",
   "metadata": {},
   "source": [
    "## Operações Matemáticas\n"
   ]
  },
  {
   "cell_type": "markdown",
   "metadata": {},
   "source": [
    "Em python temos as seguintes operações aritméticas básicas: adição, subtração, multiplicação, divisão, exponenciação e módulo.\n",
    "Operadores:\n",
    "- +\n",
    "- -\n",
    "- /\n",
    "- *\n",
    "- **\n",
    "- %\n",
    "\n",
    "Exemplos de operações:"
   ]
  },
  {
   "cell_type": "code",
   "execution_count": 1,
   "metadata": {},
   "outputs": [
    {
     "data": {
      "text/plain": [
       "4"
      ]
     },
     "execution_count": 1,
     "metadata": {},
     "output_type": "execute_result"
    }
   ],
   "source": [
    "2+2"
   ]
  },
  {
   "cell_type": "code",
   "execution_count": 2,
   "metadata": {},
   "outputs": [
    {
     "data": {
      "text/plain": [
       "5"
      ]
     },
     "execution_count": 2,
     "metadata": {},
     "output_type": "execute_result"
    }
   ],
   "source": [
    "10-5"
   ]
  },
  {
   "cell_type": "code",
   "execution_count": 3,
   "metadata": {},
   "outputs": [
    {
     "data": {
      "text/plain": [
       "5.0"
      ]
     },
     "execution_count": 3,
     "metadata": {},
     "output_type": "execute_result"
    }
   ],
   "source": [
    "10/2"
   ]
  },
  {
   "cell_type": "code",
   "execution_count": 4,
   "metadata": {},
   "outputs": [
    {
     "data": {
      "text/plain": [
       "8"
      ]
     },
     "execution_count": 4,
     "metadata": {},
     "output_type": "execute_result"
    }
   ],
   "source": [
    "2*4"
   ]
  },
  {
   "cell_type": "code",
   "execution_count": 5,
   "metadata": {},
   "outputs": [
    {
     "data": {
      "text/plain": [
       "8"
      ]
     },
     "execution_count": 5,
     "metadata": {},
     "output_type": "execute_result"
    }
   ],
   "source": [
    "2**3"
   ]
  },
  {
   "cell_type": "code",
   "execution_count": 6,
   "metadata": {},
   "outputs": [
    {
     "data": {
      "text/plain": [
       "0"
      ]
     },
     "execution_count": 6,
     "metadata": {},
     "output_type": "execute_result"
    }
   ],
   "source": [
    "10%2"
   ]
  },
  {
   "cell_type": "code",
   "execution_count": 7,
   "metadata": {},
   "outputs": [
    {
     "data": {
      "text/plain": [
       "float"
      ]
     },
     "execution_count": 7,
     "metadata": {},
     "output_type": "execute_result"
    }
   ],
   "source": [
    "type(7/2)"
   ]
  },
  {
   "cell_type": "markdown",
   "metadata": {},
   "source": [
    "**Atividade 2:** \n",
    "\n",
    "a) Resolva a expressão a seguir: 10*3+20/4\n",
    "\n",
    "b) Calcule o resto da divisão entre 12 e 5\n",
    "\n",
    "*Observação:*  O sinal de igual (<code>=</code>) é utilizado para atribuir valores a uma determinada variável."
   ]
  },
  {
   "cell_type": "code",
   "execution_count": 13,
   "metadata": {},
   "outputs": [
    {
     "data": {
      "text/plain": [
       "35.0"
      ]
     },
     "execution_count": 13,
     "metadata": {},
     "output_type": "execute_result"
    }
   ],
   "source": [
    "a=10*3+20/4\n",
    "a"
   ]
  },
  {
   "cell_type": "code",
   "execution_count": 11,
   "metadata": {},
   "outputs": [
    {
     "data": {
      "text/plain": [
       "2"
      ]
     },
     "execution_count": 11,
     "metadata": {},
     "output_type": "execute_result"
    }
   ],
   "source": [
    "12%5"
   ]
  },
  {
   "cell_type": "markdown",
   "metadata": {},
   "source": [
    "## Números inteiros\n"
   ]
  },
  {
   "cell_type": "markdown",
   "metadata": {},
   "source": [
    "- O que é um número inteiro?\n",
    "    É definido como um número inteiro aqueles que não possuem parte decimal, a exemplo do 0 e dos números positivos (1,2,3,4,5...) e os números negativos (-1,-2,-3,-4,-5,...).<br>\n",
    "- Como o python trata números inteiros?\n",
    "    O python irá tratar os numeros inteiros de forma direta, se você começar a fazer operações com inteiros ele te dará respostas em inteiros.<br>\n"
   ]
  },
  {
   "cell_type": "code",
   "execution_count": 14,
   "metadata": {},
   "outputs": [
    {
     "data": {
      "text/plain": [
       "5"
      ]
     },
     "execution_count": 14,
     "metadata": {},
     "output_type": "execute_result"
    }
   ],
   "source": [
    "2+3"
   ]
  },
  {
   "cell_type": "code",
   "execution_count": 15,
   "metadata": {},
   "outputs": [
    {
     "data": {
      "text/plain": [
       "4"
      ]
     },
     "execution_count": 15,
     "metadata": {},
     "output_type": "execute_result"
    }
   ],
   "source": [
    "#Divisao de valores inteiros\n",
    "9//2"
   ]
  },
  {
   "cell_type": "markdown",
   "metadata": {},
   "source": [
    "Também é possível associar os valores as variáveis. Exemplo: A e B recebem os valores 2 e 3 (inteiros), posteriormente é realizado a soma."
   ]
  },
  {
   "cell_type": "code",
   "execution_count": 19,
   "metadata": {},
   "outputs": [
    {
     "name": "stdout",
     "output_type": "stream",
     "text": [
      "2\n"
     ]
    },
    {
     "data": {
      "text/plain": [
       "5"
      ]
     },
     "execution_count": 19,
     "metadata": {},
     "output_type": "execute_result"
    }
   ],
   "source": [
    "A=2\n",
    "B=3\n",
    "print(A)\n",
    "A+B"
   ]
  },
  {
   "cell_type": "markdown",
   "metadata": {},
   "source": [
    "## Números Float:\n"
   ]
  },
  {
   "cell_type": "markdown",
   "metadata": {},
   "source": [
    "- O que é um número float?\n",
    "\n",
    "    É um número real de ponto flutuantes como o próprio nome diz.mas o que significa ser um número flutuante? flutuante é como se chama os números decimais, vulgo \"números quebrados\". \n",
    "    \n",
    "    Floats com valor absoluto muito grande ou muito pequeno podem ser escritos usando uma notação científica. Por exemplo, a distância da Terra ao Sol é $1.496·10^{11}m$ ou <code>1.496e11</code> em Python. A massa de uma molécula da água é $2.99·10^{-23}$ , ou <code>2.99e-23</code> em Python.\n",
    "\n",
    "- OBSERVAÇÃO:\n",
    "\n",
    "    Normalmente usamos a virgula para demonstrar um número decimal, porém em programação deve ser usado o ponto <code>.</code>!\n",
    "    Se um dos números utilizados nas operações for decimal, então a resposta dada pelo programa será decimal."
   ]
  },
  {
   "cell_type": "code",
   "execution_count": 20,
   "metadata": {},
   "outputs": [
    {
     "data": {
      "text/plain": [
       "2.3"
      ]
     },
     "execution_count": 20,
     "metadata": {},
     "output_type": "execute_result"
    }
   ],
   "source": [
    "2.3"
   ]
  },
  {
   "cell_type": "code",
   "execution_count": 21,
   "metadata": {},
   "outputs": [
    {
     "data": {
      "text/plain": [
       "1.9"
      ]
     },
     "execution_count": 21,
     "metadata": {},
     "output_type": "execute_result"
    }
   ],
   "source": [
    "4-2.1"
   ]
  },
  {
   "cell_type": "code",
   "execution_count": 22,
   "metadata": {},
   "outputs": [
    {
     "data": {
      "text/plain": [
       "2.99e-23"
      ]
     },
     "execution_count": 22,
     "metadata": {},
     "output_type": "execute_result"
    }
   ],
   "source": [
    "2.99e-23"
   ]
  },
  {
   "cell_type": "code",
   "execution_count": 25,
   "metadata": {},
   "outputs": [
    {
     "data": {
      "text/plain": [
       "2000000"
      ]
     },
     "execution_count": 25,
     "metadata": {},
     "output_type": "execute_result"
    }
   ],
   "source": [
    "2*10**6"
   ]
  },
  {
   "cell_type": "code",
   "execution_count": 26,
   "metadata": {},
   "outputs": [
    {
     "name": "stdout",
     "output_type": "stream",
     "text": [
      "5.345e+12\n"
     ]
    }
   ],
   "source": [
    "print('{:.3e}'.format(5.3452*10**12))"
   ]
  },
  {
   "cell_type": "code",
   "execution_count": 27,
   "metadata": {},
   "outputs": [
    {
     "name": "stdout",
     "output_type": "stream",
     "text": [
      "1.065e+01\n"
     ]
    }
   ],
   "source": [
    "print('{:.3e}'.format(10.65487))"
   ]
  },
  {
   "cell_type": "markdown",
   "metadata": {},
   "source": [
    "Pode-se converter objetos flutuantes em objetos int, descartando-se a parte fracionária usando a função int():"
   ]
  },
  {
   "cell_type": "code",
   "execution_count": 28,
   "metadata": {},
   "outputs": [
    {
     "data": {
      "text/plain": [
       "2"
      ]
     },
     "execution_count": 28,
     "metadata": {},
     "output_type": "execute_result"
    }
   ],
   "source": [
    "int(2.4)"
   ]
  },
  {
   "cell_type": "markdown",
   "metadata": {},
   "source": [
    "**Atividade 3:** Considerando a distância da terra e ao sol: $1.496·10^{11}m$ e a do farol do cabo branco de $18m$. Calcule quantas torres seriam necessárias para sair da terra e chegar ao sol. Coloque o valor em notação científica com duas casas decimais."
   ]
  },
  {
   "cell_type": "code",
   "execution_count": 29,
   "metadata": {},
   "outputs": [
    {
     "name": "stdout",
     "output_type": "stream",
     "text": [
      "8.31e+09\n"
     ]
    }
   ],
   "source": [
    "print('{:.2e}'.format(1.496*10**11/18))"
   ]
  },
  {
   "cell_type": "markdown",
   "metadata": {},
   "source": [
    "## Números Complexos\n",
    "\n"
   ]
  },
  {
   "cell_type": "markdown",
   "metadata": {},
   "source": [
    "- O que são?\n",
    "        São números que possuem parte real e imaginária.\n",
    "        Ex.: 2 +j3.\n",
    "        O programa trabalha diretamente com esse tipo de número."
   ]
  },
  {
   "cell_type": "code",
   "execution_count": 32,
   "metadata": {},
   "outputs": [
    {
     "data": {
      "text/plain": [
       "(5+4j)"
      ]
     },
     "execution_count": 32,
     "metadata": {},
     "output_type": "execute_result"
    }
   ],
   "source": [
    "(2+3j) + (3 +1j)"
   ]
  },
  {
   "cell_type": "code",
   "execution_count": 37,
   "metadata": {},
   "outputs": [
    {
     "data": {
      "text/plain": [
       "90.0"
      ]
     },
     "execution_count": 37,
     "metadata": {},
     "output_type": "execute_result"
    }
   ],
   "source": [
    "#Importando a função phase da classe cmath e atribuindo o nome \"curso\"\n",
    "from cmath import phase\n",
    "import math\n",
    "math.degrees(phase(3j))"
   ]
  },
  {
   "cell_type": "code",
   "execution_count": 35,
   "metadata": {},
   "outputs": [
    {
     "data": {
      "text/plain": [
       "(3.605551275463989, 0.982793723247329)"
      ]
     },
     "execution_count": 35,
     "metadata": {},
     "output_type": "execute_result"
    }
   ],
   "source": [
    "from cmath import polar as curso2\n",
    "curso2(2+3j)"
   ]
  },
  {
   "cell_type": "code",
   "execution_count": null,
   "metadata": {},
   "outputs": [],
   "source": [
    "from cmath import rect as curso3\n",
    "curso3(3.605551275463989, 0.982793723247329)"
   ]
  },
  {
   "cell_type": "code",
   "execution_count": 38,
   "metadata": {},
   "outputs": [
    {
     "data": {
      "text/plain": [
       "(5-2j)"
      ]
     },
     "execution_count": 38,
     "metadata": {},
     "output_type": "execute_result"
    }
   ],
   "source": [
    "2 + (3-2j)"
   ]
  },
  {
   "cell_type": "markdown",
   "metadata": {},
   "source": [
    "## Outras bases decimais\n"
   ]
  },
  {
   "cell_type": "markdown",
   "metadata": {},
   "source": [
    "Até agora estamos falando apenas dos números na base decimal, porém na programação podemos converter o tipo da base e até determinar em decimal números dados em outras bases.\n",
    "- Como fazer isso?\n",
    "        De binário: 0b(Número em binario);\n",
    "        De Octal: 0o(Número em octal);\n",
    "        De Hexadecimal: 0x(Número em hexa);"
   ]
  },
  {
   "cell_type": "code",
   "execution_count": 39,
   "metadata": {},
   "outputs": [
    {
     "data": {
      "text/plain": [
       "9"
      ]
     },
     "execution_count": 39,
     "metadata": {},
     "output_type": "execute_result"
    }
   ],
   "source": [
    "0b1001"
   ]
  },
  {
   "cell_type": "code",
   "execution_count": 40,
   "metadata": {},
   "outputs": [
    {
     "data": {
      "text/plain": [
       "17"
      ]
     },
     "execution_count": 40,
     "metadata": {},
     "output_type": "execute_result"
    }
   ],
   "source": [
    "0o21"
   ]
  },
  {
   "cell_type": "code",
   "execution_count": 41,
   "metadata": {},
   "outputs": [
    {
     "data": {
      "text/plain": [
       "18"
      ]
     },
     "execution_count": 41,
     "metadata": {},
     "output_type": "execute_result"
    }
   ],
   "source": [
    "0x12"
   ]
  },
  {
   "cell_type": "markdown",
   "metadata": {},
   "source": [
    "- Como transformar decimal em:\n",
    "        binário: bin(x);\n",
    "        octal: oct(x);\n",
    "        hexadecimal:hex(x)."
   ]
  },
  {
   "cell_type": "code",
   "execution_count": 42,
   "metadata": {},
   "outputs": [
    {
     "data": {
      "text/plain": [
       "'0b10010'"
      ]
     },
     "execution_count": 42,
     "metadata": {},
     "output_type": "execute_result"
    }
   ],
   "source": [
    "bin(0x12)"
   ]
  },
  {
   "cell_type": "code",
   "execution_count": 43,
   "metadata": {},
   "outputs": [
    {
     "data": {
      "text/plain": [
       "'0o22'"
      ]
     },
     "execution_count": 43,
     "metadata": {},
     "output_type": "execute_result"
    }
   ],
   "source": [
    "oct(0b10010)"
   ]
  },
  {
   "cell_type": "code",
   "execution_count": 45,
   "metadata": {},
   "outputs": [
    {
     "name": "stdout",
     "output_type": "stream",
     "text": [
      "0x12\n"
     ]
    },
    {
     "data": {
      "text/plain": [
       "'0x24'"
      ]
     },
     "execution_count": 45,
     "metadata": {},
     "output_type": "execute_result"
    }
   ],
   "source": [
    "print(hex(18))\n",
    "hex(0x12+0x12)"
   ]
  },
  {
   "cell_type": "markdown",
   "metadata": {},
   "source": [
    "**Atividade 4:** <br>\n",
    "a)Converta os seguintes números de decimal para binário: 8, 12 e 16. <br>\n",
    "b)Converta os números para decimal: $1100_{2}$,$35_{8}$,$35_{16}$."
   ]
  },
  {
   "cell_type": "code",
   "execution_count": 46,
   "metadata": {},
   "outputs": [
    {
     "name": "stdout",
     "output_type": "stream",
     "text": [
      "0b1000 0b1100 0b10000\n"
     ]
    }
   ],
   "source": [
    "print(bin(8),bin(12),bin(16))"
   ]
  },
  {
   "cell_type": "code",
   "execution_count": 47,
   "metadata": {},
   "outputs": [
    {
     "name": "stdout",
     "output_type": "stream",
     "text": [
      "12 29 53\n"
     ]
    }
   ],
   "source": [
    "print(0b1100, 0o35, 0x35)"
   ]
  },
  {
   "cell_type": "markdown",
   "metadata": {},
   "source": [
    "## Booleanos \n"
   ]
  },
  {
   "cell_type": "markdown",
   "metadata": {},
   "source": [
    " - O que são?<br>\n",
    "      Um computador não tem a menor ideia do que são números, strings ou números complexos, ele só entende 1 e 0, que na verdade é uma interpretação dos níveis de tensão (nível alto: 1, nível baixo: 0).\n",
    "     Existe um tipo de dado em Python chamado booleano, ele é bem simples, só pode assumir dois valores: True (verdadeiro) e False (dã, adivinha).\n",
    "     Então quando for 1 a saída é verdadeiro e quando é 0 a saída é falso."
   ]
  },
  {
   "cell_type": "code",
   "execution_count": 48,
   "metadata": {},
   "outputs": [
    {
     "name": "stdout",
     "output_type": "stream",
     "text": [
      "True\n"
     ]
    }
   ],
   "source": [
    "A=True\n",
    "print(A)"
   ]
  },
  {
   "cell_type": "markdown",
   "metadata": {},
   "source": [
    "O símbolo de <code>==</code> consiste no comparador lógico, então ao utilizá-lo ele retorna o resultado da comparação entre dois elementos."
   ]
  },
  {
   "cell_type": "code",
   "execution_count": 50,
   "metadata": {},
   "outputs": [
    {
     "name": "stdout",
     "output_type": "stream",
     "text": [
      "True\n"
     ]
    }
   ],
   "source": [
    "A= \"Ola mundo\"\n",
    "B= \"Olá mundo\"\n",
    "print(A == B)"
   ]
  },
  {
   "cell_type": "markdown",
   "metadata": {},
   "source": [
    "## Strings\n"
   ]
  },
  {
   "cell_type": "markdown",
   "metadata": {},
   "source": [
    "- O que são strings?<br>\n",
    ">São basicamente conjuntos de caracteres. Praticamente todo texto ou símbolo pode ser considerado uma string, seja o seu nome, seu endereço, letras maiúsculas, minúsculas, acentos ou caracteres especiais.<br>\n",
    " Strings podem ser designadas por aspas simples (' ') ou com aspas duplas (\" \").<br>\n",
    "As strings são imutáveis, ou seja, uma vez que se é dado um valor para os caracteres, eles não podem ser mudados, adicionados ou excluidos.<br>\n",
    "Tratamos um único caracter, exemplo, 'a' ou 'b' como string. O 1 é um número mas caso venha da forma '1', ele é tratado com string. Caso somemos o numero 1 + '1', vai dar o que?"
   ]
  },
  {
   "cell_type": "code",
   "execution_count": 51,
   "metadata": {},
   "outputs": [
    {
     "data": {
      "text/plain": [
       "'Ola mundoOla mundoOla mundo'"
      ]
     },
     "execution_count": 51,
     "metadata": {},
     "output_type": "execute_result"
    }
   ],
   "source": [
    "3*A"
   ]
  },
  {
   "cell_type": "code",
   "execution_count": 52,
   "metadata": {},
   "outputs": [
    {
     "ename": "TypeError",
     "evalue": "unsupported operand type(s) for +: 'int' and 'str'",
     "output_type": "error",
     "traceback": [
      "\u001b[0;31m---------------------------------------------------------------------------\u001b[0m",
      "\u001b[0;31mTypeError\u001b[0m                                 Traceback (most recent call last)",
      "\u001b[0;32m<ipython-input-52-637df62c1034>\u001b[0m in \u001b[0;36m<module>\u001b[0;34m\u001b[0m\n\u001b[0;32m----> 1\u001b[0;31m \u001b[0;36m1\u001b[0m\u001b[0;34m+\u001b[0m \u001b[0;34m'1'\u001b[0m\u001b[0;34m\u001b[0m\u001b[0;34m\u001b[0m\u001b[0m\n\u001b[0m",
      "\u001b[0;31mTypeError\u001b[0m: unsupported operand type(s) for +: 'int' and 'str'"
     ]
    }
   ],
   "source": [
    "1+ '1'"
   ]
  },
  {
   "cell_type": "markdown",
   "metadata": {},
   "source": [
    "Obtemos um erro, pois não é possível somar um número inteiro com uma string."
   ]
  },
  {
   "cell_type": "code",
   "execution_count": 55,
   "metadata": {},
   "outputs": [
    {
     "data": {
      "text/plain": [
       "1255"
      ]
     },
     "execution_count": 55,
     "metadata": {},
     "output_type": "execute_result"
    }
   ],
   "source": [
    "#Convertendo para inteiro\n",
    "1+ int('1254')"
   ]
  },
  {
   "cell_type": "markdown",
   "metadata": {},
   "source": [
    "- Como saber o tamanho de um string:\n",
    "        Utilizamos a função nativa do Python, a função len().\n",
    "        Deve-se chamar a função len com uma string dentro dela, e ela irá retornar o número de caracteres."
   ]
  },
  {
   "cell_type": "code",
   "execution_count": 59,
   "metadata": {},
   "outputs": [
    {
     "name": "stdout",
     "output_type": "stream",
     "text": [
      "11\n"
     ]
    },
    {
     "data": {
      "text/plain": [
       "9"
      ]
     },
     "execution_count": 59,
     "metadata": {},
     "output_type": "execute_result"
    }
   ],
   "source": [
    "print(len('Hello world'))\n",
    "A.__len__()"
   ]
  },
  {
   "cell_type": "markdown",
   "metadata": {},
   "source": [
    "### Concatenando Strings\n"
   ]
  },
  {
   "cell_type": "markdown",
   "metadata": {},
   "source": [
    "- Concatenamos strings através do operando (+). <br>\n",
    "    As strings são imutáveis mas a variável inicial aponta para um endereço de memória, que quando concatenado passa a apontar para um outro endereço."
   ]
  },
  {
   "cell_type": "code",
   "execution_count": 60,
   "metadata": {},
   "outputs": [
    {
     "name": "stdout",
     "output_type": "stream",
     "text": [
      "Curso\n",
      "curso Introdução ao Python\n"
     ]
    }
   ],
   "source": [
    "texto = \"Curso\"\n",
    "print(texto)\n",
    "\n",
    "texto2 =  \" Introdução ao Python\"\n",
    "print('curso'+ texto2)"
   ]
  },
  {
   "cell_type": "code",
   "execution_count": 61,
   "metadata": {},
   "outputs": [
    {
     "name": "stdout",
     "output_type": "stream",
     "text": [
      "truetruetrue\n"
     ]
    }
   ],
   "source": [
    "#Tambem funciona com o operador da multiplicacao\n",
    "A = 'true'\n",
    "print(3*A)"
   ]
  },
  {
   "cell_type": "markdown",
   "metadata": {},
   "source": [
    "### Funções de Strings\n"
   ]
  },
  {
   "cell_type": "markdown",
   "metadata": {},
   "source": [
    "- Função upper(): Essa função é responsável por receber uma string e retorná-la com todos os caracteres maiúsculo."
   ]
  },
  {
   "cell_type": "code",
   "execution_count": 62,
   "metadata": {},
   "outputs": [
    {
     "name": "stdout",
     "output_type": "stream",
     "text": [
      "curso básico de python\n",
      "CURSO BÁSICO DE PYTHON\n"
     ]
    }
   ],
   "source": [
    "texto = \"curso básico de python\"\n",
    "print(texto)\n",
    "\n",
    "texto = texto.upper()\n",
    "print(texto)\n"
   ]
  },
  {
   "cell_type": "markdown",
   "metadata": {},
   "source": [
    "- Função capitalize(): Essa função irá transformar a primeira letra da string em maiúsculo."
   ]
  },
  {
   "cell_type": "code",
   "execution_count": 64,
   "metadata": {},
   "outputs": [
    {
     "data": {
      "text/plain": [
       "'Curso básico de python'"
      ]
     },
     "execution_count": 64,
     "metadata": {},
     "output_type": "execute_result"
    }
   ],
   "source": [
    "texto.capitalize()\n"
   ]
  },
  {
   "cell_type": "markdown",
   "metadata": {},
   "source": [
    "- Função lower(): Essa função faz o oposto da função upper. Logo, recebe a string e retorna com seus caracteres todos minúsculos."
   ]
  },
  {
   "cell_type": "code",
   "execution_count": 63,
   "metadata": {},
   "outputs": [
    {
     "name": "stdout",
     "output_type": "stream",
     "text": [
      "CURSO BÁSICO DE PYTHON\n",
      "curso básico de python\n"
     ]
    }
   ],
   "source": [
    "texto = \"CURSO BÁSICO DE PYTHON\"\n",
    "print(texto)\n",
    "\n",
    "texto = texto.lower()\n",
    "print(texto)"
   ]
  },
  {
   "cell_type": "markdown",
   "metadata": {},
   "source": [
    "- Função isupper(): Essa função é responsável por verificar se todos os caracteres da string estão maiúsculos, retornando TRUE (caso sejam) ou FALSE (caso tenha algum caracter minusculo)."
   ]
  },
  {
   "cell_type": "code",
   "execution_count": 65,
   "metadata": {},
   "outputs": [
    {
     "data": {
      "text/plain": [
       "False"
      ]
     },
     "execution_count": 65,
     "metadata": {},
     "output_type": "execute_result"
    }
   ],
   "source": [
    "texto = \"CURSO BÁSiCO DE PYTHON\"\n",
    "texto.isupper()"
   ]
  },
  {
   "cell_type": "code",
   "execution_count": 66,
   "metadata": {},
   "outputs": [
    {
     "data": {
      "text/plain": [
       "True"
      ]
     },
     "execution_count": 66,
     "metadata": {},
     "output_type": "execute_result"
    }
   ],
   "source": [
    "texto = \"CURSO BÁSICO DE PYTHON\"\n",
    "texto.isupper()"
   ]
  },
  {
   "cell_type": "markdown",
   "metadata": {},
   "source": [
    "- Função islower(): Essa função é o oposto da função isupper(). Logo, retorna TRUE se todos os caracteres da string forem minúscula e FALSE se não for."
   ]
  },
  {
   "cell_type": "code",
   "execution_count": null,
   "metadata": {},
   "outputs": [],
   "source": [
    "texto = \"curso básico de python\"\n",
    "texto.islower()"
   ]
  },
  {
   "cell_type": "markdown",
   "metadata": {},
   "source": [
    "- Função isalpha(): Retorna TRUE se todos os caracteres da string forem letras, caso tenha algum número ou caracter especial irá retornar falso."
   ]
  },
  {
   "cell_type": "code",
   "execution_count": 67,
   "metadata": {},
   "outputs": [
    {
     "data": {
      "text/plain": [
       "True"
      ]
     },
     "execution_count": 67,
     "metadata": {},
     "output_type": "execute_result"
    }
   ],
   "source": [
    "texto = \"Hello\"\n",
    "texto.isalpha()"
   ]
  },
  {
   "cell_type": "markdown",
   "metadata": {},
   "source": [
    "- Função isdecimal(): Retorna TRUE se a string conter apenas números, caso tenha letras, caracteres especiais ou for vazia, irá retornar FALSE."
   ]
  },
  {
   "cell_type": "code",
   "execution_count": 68,
   "metadata": {},
   "outputs": [
    {
     "data": {
      "text/plain": [
       "True"
      ]
     },
     "execution_count": 68,
     "metadata": {},
     "output_type": "execute_result"
    }
   ],
   "source": [
    "texto = \"12345\"\n",
    "texto.isdecimal()"
   ]
  },
  {
   "cell_type": "markdown",
   "metadata": {},
   "source": [
    "- Função isalnum(): Retorna TRUE se a string conter alfanuméricos (números e letras), mas caso tenha algum caractere especial ou for vazia, irá retornar FALSE."
   ]
  },
  {
   "cell_type": "code",
   "execution_count": 70,
   "metadata": {},
   "outputs": [
    {
     "data": {
      "text/plain": [
       "True"
      ]
     },
     "execution_count": 70,
     "metadata": {},
     "output_type": "execute_result"
    }
   ],
   "source": [
    "texto = \"12345Hello\"\n",
    "texto.isalnum()"
   ]
  },
  {
   "cell_type": "code",
   "execution_count": 71,
   "metadata": {},
   "outputs": [
    {
     "data": {
      "text/plain": [
       "False"
      ]
     },
     "execution_count": 71,
     "metadata": {},
     "output_type": "execute_result"
    }
   ],
   "source": [
    "texto = \"12345@Hello\"\n",
    "texto.isalnum()"
   ]
  },
  {
   "cell_type": "markdown",
   "metadata": {},
   "source": [
    "- Função isspace(): Retorna TRUE caso a string contenha apenas espaços em branco, caso contrário retorna FALSE."
   ]
  },
  {
   "cell_type": "code",
   "execution_count": 72,
   "metadata": {},
   "outputs": [
    {
     "data": {
      "text/plain": [
       "True"
      ]
     },
     "execution_count": 72,
     "metadata": {},
     "output_type": "execute_result"
    }
   ],
   "source": [
    "texto = \" \"\n",
    "texto.isspace()"
   ]
  },
  {
   "cell_type": "markdown",
   "metadata": {},
   "source": [
    "- Função join(): Essa função irá concatenar (juntar) os elementos da string, nesse caso dizemos que a string será formada a partir de uma lista com diferentes elementos. A junção dos elementos da string será separado por vírgulas ou espaços em branco."
   ]
  },
  {
   "cell_type": "code",
   "execution_count": 73,
   "metadata": {},
   "outputs": [
    {
     "name": "stdout",
     "output_type": "stream",
     "text": [
      "Curso,básico,Python\n",
      "Curso básico Python\n"
     ]
    }
   ],
   "source": [
    "lista = ['Curso','básico','Python']\n",
    "\n",
    "#Separação por vírgula\n",
    "print(','.join(lista))\n",
    "\n",
    "#Separação por espaço\n",
    "print(' '.join(lista))\n"
   ]
  },
  {
   "cell_type": "markdown",
   "metadata": {},
   "source": [
    "- Função split(sep): Essa função é responsável pela separação da string, ela irá separar os elementos partir de um separador (sep), se não for definido nenhum separador, irá separar pelos espaços em branco."
   ]
  },
  {
   "cell_type": "code",
   "execution_count": 74,
   "metadata": {},
   "outputs": [
    {
     "name": "stdout",
     "output_type": "stream",
     "text": [
      "['Curso', 'básico', 'Python']\n",
      "['Curso', 'básico', 'Python']\n"
     ]
    }
   ],
   "source": [
    "texto=\"Curso básico Python\"\n",
    "print( texto.split() )\n",
    "texto=\"Curso,básico,Python\"\n",
    "print( texto.split(\",\") )"
   ]
  },
  {
   "cell_type": "markdown",
   "metadata": {},
   "source": [
    "- Função endswith(substring): Usada para localizar uma substring (passada como argumento para o método) dentro de uma string maior, da seguinte maneira: <code>texto.endswith(substring)</code>.\n",
    "  Se a substring estiver no final da string texto, esse método retorna True.\n",
    "\n",
    "- Função startswith(substring): É possível verificar se alguma coisa uma substring está no começo, bem no início da outra string, através do método startswith (do inglês 'começa com'): <code>texto.startswith(substring)</code>.\n",
    "   Esse método retorna True se substring está no começo da string texto.\n",
    "   \n",
    "- Função find(substring): Essa função é responsável de verificar e achar em qualquer local da string a substring. Ela irá retornar a posição da substring na string original.\n",
    "\n",
    "- Função replace(): Recebe dois argumentos. Seja texto a string: <code>texto.replace(antiga,nova)</code>.\n",
    "    Toda vez que encontrar a substring antiga ele vai colocar a substring nova, na string texto. Retorna uma string nova."
   ]
  },
  {
   "cell_type": "code",
   "execution_count": 78,
   "metadata": {},
   "outputs": [
    {
     "name": "stdout",
     "output_type": "stream",
     "text": [
      "This is a simple string\n",
      "This is a short string\n"
     ]
    },
    {
     "data": {
      "text/plain": [
       "8"
      ]
     },
     "execution_count": 78,
     "metadata": {},
     "output_type": "execute_result"
    }
   ],
   "source": [
    "texto = 'This is a simple string'\n",
    "print(texto)\n",
    "print(texto.replace('simple','short'))\n",
    "texto.find('a')"
   ]
  },
  {
   "cell_type": "markdown",
   "metadata": {},
   "source": [
    "## Caracteres especias em Python:\n"
   ]
  },
  {
   "cell_type": "markdown",
   "metadata": {},
   "source": [
    "- Para representar alguns caracteres na string ou na programação, é utilizado a barra invertida ou contrabarra (\\), alguns dos caracteres especiais são listados abaixo:\n",
    "***\n",
    "    \\\\ - Exibe uma barra\n",
    "    \\' - Exibe a aspa simples\n",
    "    \\\" - Exibe a aspa dupla\n",
    "    \\a - Dá um bipe\n",
    "    \\b - Retrocesso\n",
    "    \\f - Avanço\n",
    "    \\n - Caractere de nova linha (enter)\n",
    "    \\r - Carriage return\n",
    "    \\t - Tab horizontal\n",
    "    \\v - Tab vertical"
   ]
  },
  {
   "cell_type": "code",
   "execution_count": 79,
   "metadata": {},
   "outputs": [
    {
     "name": "stdout",
     "output_type": "stream",
     "text": [
      "Quero imprimir o valor entre aspas dupla \"valor\" \n",
      "Escrever algo na linha de baixo\n"
     ]
    }
   ],
   "source": [
    "print(\"Quero imprimir o valor entre aspas dupla \\\"valor\\\" \\nEscrever algo na linha de baixo\")"
   ]
  },
  {
   "cell_type": "markdown",
   "metadata": {},
   "source": [
    "**Atividade 5:** <br> a) Imprima na tela o texto a seguir:<br> \"Como faço para substituir a \\'\\\\\\' por \\\"\\\\\\\" <br>Com isso aprendi os conceitos básicos de string em pyhon\". <br> b) Corrija a palavra python utilizando a função replace."
   ]
  },
  {
   "cell_type": "code",
   "execution_count": 80,
   "metadata": {},
   "outputs": [
    {
     "name": "stdout",
     "output_type": "stream",
     "text": [
      "Como faço para subsitituir a '\\' por \"\\\" \n",
      "Com isso aprendi os conceitos basicos de string em pyhon\n"
     ]
    }
   ],
   "source": [
    "print(\"Como faço para subsitituir a \\'\\\\\\' por \\\"\\\\\\\" \\nCom isso aprendi os conceitos basicos de string em pyhon\" )"
   ]
  },
  {
   "cell_type": "code",
   "execution_count": 81,
   "metadata": {},
   "outputs": [
    {
     "name": "stdout",
     "output_type": "stream",
     "text": [
      "Como faço para subsitituir a '\\' por \"\\\" \n",
      "Com isso aprendi os conceitos basicos de string em python\n"
     ]
    }
   ],
   "source": [
    "texto =  \"Como faço para subsitituir a \\'\\\\\\' por \\\"\\\\\\\" \\nCom isso aprendi os conceitos basicos de string em pyhon\"\n",
    "texto=texto.replace('pyhon','python')\n",
    "print(texto)"
   ]
  },
  {
   "cell_type": "markdown",
   "metadata": {},
   "source": [
    "## Listas\n",
    " "
   ]
  },
  {
   "cell_type": "markdown",
   "metadata": {},
   "source": [
    "- O que são?\n",
    "    É um tipo de dado, uma lista é um objeto de coleção ordenada.\n",
    " - Para que serve?\n",
    "    Exemplo: considerando uma lista de funcionários de uma empresa, nela temos o nome, a idade, salário, tempo de empresa;\n",
    "    Ou uma lista de compras para fazer no supermercado.\n",
    "    As listas em python são como as listas na vida real, utilizamos elas para organizar e ordenar diferentes dados de forma a facilitar como iremos encontrar.\n",
    " - Por que usar?\n",
    "    Para facilitar a forma que lidamos com coisas ordenadas. As listas, de forma automática, possuem uma numeração, uma ordenação lógica. Elas nos fornecem uma infraestrutura para lidar com bastante informações.\n",
    "    Elas possuem comprimento variável, você pode acrescentar elementos ou retirar, alterar a posição do elementos.\n",
    " - Como criar?\n",
    "    Listas são definidas por um conjunto de colchetes ([]), cada item da lista é separado por vírgula."
   ]
  },
  {
   "cell_type": "code",
   "execution_count": 82,
   "metadata": {},
   "outputs": [
    {
     "name": "stdout",
     "output_type": "stream",
     "text": [
      "Ola\n",
      "[9.4, 3, 2.5, 10]\n"
     ]
    },
    {
     "data": {
      "text/plain": [
       "['__add__',\n",
       " '__class__',\n",
       " '__contains__',\n",
       " '__delattr__',\n",
       " '__delitem__',\n",
       " '__dir__',\n",
       " '__doc__',\n",
       " '__eq__',\n",
       " '__format__',\n",
       " '__ge__',\n",
       " '__getattribute__',\n",
       " '__getitem__',\n",
       " '__gt__',\n",
       " '__hash__',\n",
       " '__iadd__',\n",
       " '__imul__',\n",
       " '__init__',\n",
       " '__init_subclass__',\n",
       " '__iter__',\n",
       " '__le__',\n",
       " '__len__',\n",
       " '__lt__',\n",
       " '__mul__',\n",
       " '__ne__',\n",
       " '__new__',\n",
       " '__reduce__',\n",
       " '__reduce_ex__',\n",
       " '__repr__',\n",
       " '__reversed__',\n",
       " '__rmul__',\n",
       " '__setattr__',\n",
       " '__setitem__',\n",
       " '__sizeof__',\n",
       " '__str__',\n",
       " '__subclasshook__',\n",
       " 'append',\n",
       " 'clear',\n",
       " 'copy',\n",
       " 'count',\n",
       " 'extend',\n",
       " 'index',\n",
       " 'insert',\n",
       " 'pop',\n",
       " 'remove',\n",
       " 'reverse',\n",
       " 'sort']"
      ]
     },
     "execution_count": 82,
     "metadata": {},
     "output_type": "execute_result"
    }
   ],
   "source": [
    "lista = ['Ola','mundo','curso']\n",
    "print (lista[0])\n",
    "lista2 = [9.4,3,2.5,10]\n",
    "print (lista2)\n",
    "\n",
    "dir (lista)"
   ]
  },
  {
   "cell_type": "markdown",
   "metadata": {},
   "source": [
    " - Como acessar um dado da lista?\n",
    ">Temos que lembra que em python o primeiro elemento não é definido pelo índice 1 e sim pelo 0, logo para acessar o primeiro item da lista usamos Lista[0]."
   ]
  },
  {
   "cell_type": "code",
   "execution_count": 83,
   "metadata": {},
   "outputs": [
    {
     "name": "stdout",
     "output_type": "stream",
     "text": [
      "['Virginia', 21, 1.66]\n",
      "Nome:  Virginia\n",
      "Idade:  21\n",
      "Altura:  1.66\n"
     ]
    }
   ],
   "source": [
    "Lista = ['Virginia',21,1.66]\n",
    "print(Lista)\n",
    "print(\"Nome: \",Lista[0])\n",
    "print(\"Idade: \",Lista[1])\n",
    "print(\"Altura: \",Lista[2])"
   ]
  },
  {
   "cell_type": "markdown",
   "metadata": {},
   "source": [
    "**Atividade 6:** Crie uma lista de produtos de supermercado com 5 itens (arroz, feijão, macarrão, maça e banana) e mostre qual é o 3 item."
   ]
  },
  {
   "cell_type": "code",
   "execution_count": 84,
   "metadata": {},
   "outputs": [
    {
     "name": "stdout",
     "output_type": "stream",
     "text": [
      "macarrao\n"
     ]
    }
   ],
   "source": [
    "Supermercado = ['arroz','feijao','macarrao','maca','banana']\n",
    "print(Supermercado[2])"
   ]
  },
  {
   "cell_type": "markdown",
   "metadata": {},
   "source": [
    " - Como adicionar elementos na lista?\n",
    "         Utilizamos a função append()"
   ]
  },
  {
   "cell_type": "code",
   "execution_count": 85,
   "metadata": {},
   "outputs": [
    {
     "name": "stdout",
     "output_type": "stream",
     "text": [
      "['Aerosmith', 'Audioslave', 'RHCP']\n",
      "['Aerosmith', 'Audioslave', 'RHCP', 'Linkin Park']\n"
     ]
    }
   ],
   "source": [
    "Bandas = ['Aerosmith','Audioslave','RHCP']\n",
    "print(Bandas)\n",
    "Bandas.append('Linkin Park')\n",
    "print (Bandas)"
   ]
  },
  {
   "cell_type": "markdown",
   "metadata": {},
   "source": [
    "- Como dizer o tamanho da lista?\n",
    "         Para isso utilizamos a função len()."
   ]
  },
  {
   "cell_type": "code",
   "execution_count": 87,
   "metadata": {},
   "outputs": [
    {
     "name": "stdout",
     "output_type": "stream",
     "text": [
      "['Aerosmith', 'Audioslave', 'RHCP']\n",
      "Tamanho da lista:  3\n"
     ]
    }
   ],
   "source": [
    "Bandas = ['Aerosmith','Audioslave','RHCP']\n",
    "print(Bandas)\n",
    "print(\"Tamanho da lista: \", len(Bandas))"
   ]
  },
  {
   "cell_type": "markdown",
   "metadata": {},
   "source": [
    " - Como mudar algum intem da lista?\n",
    "         Pegamos o indice do item da lista e alteramos."
   ]
  },
  {
   "cell_type": "code",
   "execution_count": 88,
   "metadata": {},
   "outputs": [
    {
     "name": "stdout",
     "output_type": "stream",
     "text": [
      "['Aerosmith', 'Audioslave', 'RHCP']\n",
      "['Aerosmith', 'Audioslave', 'Linkin Park']\n"
     ]
    }
   ],
   "source": [
    "Bandas = ['Aerosmith','Audioslave','RHCP']\n",
    "print(Bandas)\n",
    "Bandas[2] = 'Linkin Park'\n",
    "print(Bandas)"
   ]
  },
  {
   "cell_type": "markdown",
   "metadata": {},
   "source": [
    " - Como deletar itens?\n",
    "         De maneira simples colocamos del 'o nome da lista'[i]."
   ]
  },
  {
   "cell_type": "code",
   "execution_count": 89,
   "metadata": {},
   "outputs": [
    {
     "name": "stdout",
     "output_type": "stream",
     "text": [
      "['Aerosmith', 'Audioslave', 'RHCP']\n",
      "['Audioslave', 'RHCP']\n"
     ]
    }
   ],
   "source": [
    "Bandas = ['Aerosmith','Audioslave','RHCP']\n",
    "print(Bandas)\n",
    "del Bandas[0]\n",
    "print(Bandas)"
   ]
  },
  {
   "cell_type": "markdown",
   "metadata": {},
   "source": [
    "- Como concatenar duas ou mais listas?\n",
    "         Concatenar nada mais é que 'unir', grudar duas listas.\n",
    "         Para isso usamos o operador +."
   ]
  },
  {
   "cell_type": "code",
   "execution_count": 91,
   "metadata": {},
   "outputs": [
    {
     "name": "stdout",
     "output_type": "stream",
     "text": [
      "[[1, 2, 3, 4], [5, 6, 7, 8]]\n"
     ]
    }
   ],
   "source": [
    "lista1 = [1,2,3,4]\n",
    "lista2=[5,6,7,8]\n",
    "lista =[lista1 , lista2]\n",
    "print (lista)"
   ]
  },
  {
   "cell_type": "code",
   "execution_count": 92,
   "metadata": {},
   "outputs": [
    {
     "name": "stdout",
     "output_type": "stream",
     "text": [
      "2\n"
     ]
    }
   ],
   "source": [
    "print(lista[0][1])"
   ]
  },
  {
   "cell_type": "markdown",
   "metadata": {},
   "source": [
    "**Atividade 7:** Utilizando a lista do supermercado criado anteriormente: <br>\n",
    "a) Adicione na lista, os seguintes itens: morango, laranja e uva;<br>\n",
    "b) Verifique a quantidade de itens da lista após a adição dos itens;<br>\n",
    "c) Altere o item maça para sal;<br>\n",
    "d) Apague o item morango;<br>\n",
    "e) Por fim, crie a lista com os itens da padaria: pão, queijo e ovos e concatene com a lista do supermercado."
   ]
  },
  {
   "cell_type": "code",
   "execution_count": 93,
   "metadata": {},
   "outputs": [
    {
     "name": "stdout",
     "output_type": "stream",
     "text": [
      "['arroz', 'feijao', 'macarrao', 'maca', 'banana', 'Morango', 'Laranja', 'Uva']\n"
     ]
    }
   ],
   "source": [
    "Supermercado = ['arroz','feijao','macarrao','maca','banana']\n",
    "Supermercado.append('Morango')\n",
    "Supermercado.append('Laranja')\n",
    "Supermercado.append('Uva')\n",
    "print(Supermercado)"
   ]
  },
  {
   "cell_type": "code",
   "execution_count": 94,
   "metadata": {},
   "outputs": [
    {
     "name": "stdout",
     "output_type": "stream",
     "text": [
      "8\n"
     ]
    }
   ],
   "source": [
    "print(len(Supermercado))"
   ]
  },
  {
   "cell_type": "code",
   "execution_count": 95,
   "metadata": {},
   "outputs": [
    {
     "name": "stdout",
     "output_type": "stream",
     "text": [
      "['arroz', 'feijao', 'macarrao', 'Sal', 'banana', 'Morango', 'Laranja', 'Uva']\n"
     ]
    }
   ],
   "source": [
    "Supermercado[3]='Sal'\n",
    "print(Supermercado)"
   ]
  },
  {
   "cell_type": "code",
   "execution_count": 96,
   "metadata": {},
   "outputs": [
    {
     "name": "stdout",
     "output_type": "stream",
     "text": [
      "['arroz', 'feijao', 'macarrao', 'Sal', 'banana', 'Morango', 'Uva']\n"
     ]
    }
   ],
   "source": [
    "del Supermercado[6]\n",
    "print(Supermercado)"
   ]
  },
  {
   "cell_type": "code",
   "execution_count": 97,
   "metadata": {},
   "outputs": [
    {
     "name": "stdout",
     "output_type": "stream",
     "text": [
      "['arroz', 'feijao', 'macarrao', 'Sal', 'banana', 'Morango', 'Uva', 'Pao', 'queijo', 'ovos']\n"
     ]
    }
   ],
   "source": [
    "Padaria = ['Pao','queijo','ovos']\n",
    "Supermercado = Supermercado + Padaria\n",
    "print(Supermercado)"
   ]
  },
  {
   "cell_type": "markdown",
   "metadata": {},
   "source": [
    "### Operações com listas:\n",
    "    "
   ]
  },
  {
   "cell_type": "markdown",
   "metadata": {},
   "source": [
    " Existem diversas operações algumas delas são:\n",
    "         - inserir item no índice x: lista.insert(x, item)\n",
    "         - remover item: lista.remove(item) (ps: retira a primeira ocorrência)\n",
    "         - inverter uma lista: reverse()\n",
    "         - ordena a lista em ordem crescente ou alfabética: lista.sort()\n",
    "         - apagar uma lista: clear()\n",
    "         - copiar uma lista: copy()\n",
    "         - contar quantas vezes um item aparece: count(x)\n",
    "         - retirar um elemento específico da linha: pop(x)"
   ]
  },
  {
   "cell_type": "markdown",
   "metadata": {},
   "source": [
    " - Como fatiar/separar listas?\n",
    "         novaLista = Lista[inicio : quantidade]"
   ]
  },
  {
   "cell_type": "code",
   "execution_count": 100,
   "metadata": {},
   "outputs": [
    {
     "name": "stdout",
     "output_type": "stream",
     "text": [
      "[1, 2, 3]\n"
     ]
    }
   ],
   "source": [
    "Lista1 = [1,2,3,4,5,6,7]\n",
    "lista = Lista1[0:3]\n",
    "print(lista)"
   ]
  },
  {
   "cell_type": "markdown",
   "metadata": {},
   "source": [
    " ### Como copiar uma lista?\n",
    "    "
   ]
  },
  {
   "cell_type": "markdown",
   "metadata": {},
   "source": [
    " Podemos fazer de duas formas:\n",
    "          - Primeira: lista2 = lista1;\n",
    "          - Segunda: Lista2 = [] + lista1.\n",
    "Qual a diferença?"
   ]
  },
  {
   "cell_type": "code",
   "execution_count": 101,
   "metadata": {},
   "outputs": [
    {
     "name": "stdout",
     "output_type": "stream",
     "text": [
      "[2, 3, 4, 5, 6, 7]\n",
      "[2, 3, 4, 5, 6, 7]\n"
     ]
    }
   ],
   "source": [
    "Lista1 =[2,3,4,5,6,7]\n",
    "Lista2 = Lista1\n",
    "Lista3 = [] + Lista1\n",
    "print(Lista2)\n",
    "print(Lista3)"
   ]
  },
  {
   "cell_type": "code",
   "execution_count": 102,
   "metadata": {},
   "outputs": [
    {
     "name": "stdout",
     "output_type": "stream",
     "text": [
      "[2, 999, 4, 5, 9999, 7]\n",
      "[2, 999, 4, 5, 9999, 7]\n",
      "[2, 999, 4, 5, 6, 7]\n"
     ]
    }
   ],
   "source": [
    "#Explicando a diferença\n",
    "Lista1[1] = 999\n",
    "Lista3 = [] + Lista1\n",
    "Lista2[4] = 9999\n",
    "print (Lista1)\n",
    "print(Lista2)\n",
    "print(Lista3)"
   ]
  },
  {
   "cell_type": "markdown",
   "metadata": {},
   "source": [
    "**Atividade 8:** Separe a lista anterior em três listas: merceria, hortifruta e padaria."
   ]
  },
  {
   "cell_type": "code",
   "execution_count": 103,
   "metadata": {},
   "outputs": [
    {
     "name": "stdout",
     "output_type": "stream",
     "text": [
      "['arroz', 'feijao', 'macarrao', 'Sal']\n",
      "['banana', 'Morango']\n",
      "['Uva', 'Pao', 'queijo']\n"
     ]
    }
   ],
   "source": [
    "mercearia = Supermercado[0:4]\n",
    "print(mercearia)\n",
    "hortifruta = Supermercado[4:6]\n",
    "print(hortifruta)\n",
    "padaria = Supermercado[6:9]\n",
    "print(padaria)"
   ]
  },
  {
   "cell_type": "markdown",
   "metadata": {},
   "source": [
    "## Conectivos Lógicos\n",
    "   "
   ]
  },
  {
   "cell_type": "markdown",
   "metadata": {},
   "source": [
    "São operadores que unem expressões lógicas formando assim, uma nova expressão que é composta por 2 ou mais sub-expressões. \n",
    "   Toda expressão lógica avaliada resultará num valor lógico e a relação entre vários valores lógicos é um outro valor lógico."
   ]
  },
  {
   "cell_type": "markdown",
   "metadata": {},
   "source": [
    "### AND\n"
   ]
  },
  {
   "cell_type": "markdown",
   "metadata": {},
   "source": [
    "Esse operador só irá retornar True se todas as condições forem verdadeiras. Se uma delas for falsa, então retorna False."
   ]
  },
  {
   "cell_type": "code",
   "execution_count": 105,
   "metadata": {},
   "outputs": [
    {
     "data": {
      "text/plain": [
       "True"
      ]
     },
     "execution_count": 105,
     "metadata": {},
     "output_type": "execute_result"
    }
   ],
   "source": [
    "18>5 and 6>5"
   ]
  },
  {
   "cell_type": "code",
   "execution_count": 106,
   "metadata": {},
   "outputs": [
    {
     "data": {
      "text/plain": [
       "False"
      ]
     },
     "execution_count": 106,
     "metadata": {},
     "output_type": "execute_result"
    }
   ],
   "source": [
    "a = \"Hello\"\n",
    "b = \"Hello\"\n",
    "c = \"Word\" \n",
    "a==b and a==c"
   ]
  },
  {
   "cell_type": "markdown",
   "metadata": {},
   "source": [
    "### OR\n"
   ]
  },
  {
   "cell_type": "markdown",
   "metadata": {},
   "source": [
    "Esse operador irá retornar True quando uma das condições for verdadeira, não é necessário que todas estejam certas."
   ]
  },
  {
   "cell_type": "code",
   "execution_count": null,
   "metadata": {},
   "outputs": [],
   "source": [
    "1<2 or 4>2"
   ]
  },
  {
   "cell_type": "code",
   "execution_count": null,
   "metadata": {},
   "outputs": [],
   "source": [
    "a = 5\n",
    "2>a or 4>a"
   ]
  },
  {
   "cell_type": "markdown",
   "metadata": {},
   "source": [
    "### NOT\n"
   ]
  },
  {
   "cell_type": "markdown",
   "metadata": {},
   "source": [
    "É o operador mais simples, ele pega uma expressão e reverte ela.\n",
    "Se antes uma condição era True, agora ela é False.\n",
    "Se antes uma condição era False, agora ela é True."
   ]
  },
  {
   "cell_type": "code",
   "execution_count": null,
   "metadata": {},
   "outputs": [],
   "source": [
    "a=True\n",
    "print(not a)"
   ]
  },
  {
   "cell_type": "markdown",
   "metadata": {},
   "source": [
    "\n",
    "## Operadores de Comparação\n",
    "  "
   ]
  },
  {
   "cell_type": "markdown",
   "metadata": {},
   "source": [
    "== -Se o valor das duas variáveis forem iguais, teremos uma condição verdadeira. Deduzimos então que  a condição (x == y) é verdadeira.\n",
    "\n",
    "!= -Se o valor de duas variáveis não forem iguais essa condição se torna verdadeira. Então a condição x != y é verdadeira. \n",
    "\n",
    "\\> -Se o da primeira variável é maior que o valor da segunda, respectivamente, a condição é verdadeira. Então (x > y) não é verdade.\n",
    "\n",
    "< -Se o valor da segunda variável for maior que o valor da primeira, respectivamente, a condição é verdadeira. Então (x < y) é verdadeira.\n",
    "\n",
    "\\>= -Se o valor da variável da esquerda for maior ou igual ao da variável da direita, a condição é verdade. Então (x >= y) não é verdade.\n",
    "\n",
    "<= -Se o valor da variável da esquerda for menor ou igual ao da variável da direita, a condição é verdadeira"
   ]
  },
  {
   "cell_type": "markdown",
   "metadata": {},
   "source": [
    "### Igual (==)"
   ]
  },
  {
   "cell_type": "code",
   "execution_count": 107,
   "metadata": {},
   "outputs": [
    {
     "data": {
      "text/plain": [
       "True"
      ]
     },
     "execution_count": 107,
     "metadata": {},
     "output_type": "execute_result"
    }
   ],
   "source": [
    "3 == 3"
   ]
  },
  {
   "cell_type": "code",
   "execution_count": 108,
   "metadata": {},
   "outputs": [
    {
     "data": {
      "text/plain": [
       "True"
      ]
     },
     "execution_count": 108,
     "metadata": {},
     "output_type": "execute_result"
    }
   ],
   "source": [
    "2 == 2"
   ]
  },
  {
   "cell_type": "markdown",
   "metadata": {},
   "source": [
    "Obs: <code>==</code> é um operador de comparação e <code>=</code> é utilizado para designar algo, como uma variável."
   ]
  },
  {
   "cell_type": "markdown",
   "metadata": {},
   "source": [
    "### Não igual (!=)"
   ]
  },
  {
   "cell_type": "code",
   "execution_count": 109,
   "metadata": {},
   "outputs": [
    {
     "data": {
      "text/plain": [
       "True"
      ]
     },
     "execution_count": 109,
     "metadata": {},
     "output_type": "execute_result"
    }
   ],
   "source": [
    "3 != 2"
   ]
  },
  {
   "cell_type": "code",
   "execution_count": 110,
   "metadata": {},
   "outputs": [
    {
     "data": {
      "text/plain": [
       "False"
      ]
     },
     "execution_count": 110,
     "metadata": {},
     "output_type": "execute_result"
    }
   ],
   "source": [
    "3 != 3"
   ]
  },
  {
   "cell_type": "markdown",
   "metadata": {},
   "source": [
    "### Maior que (>)"
   ]
  },
  {
   "cell_type": "code",
   "execution_count": null,
   "metadata": {},
   "outputs": [],
   "source": [
    "3 > 8"
   ]
  },
  {
   "cell_type": "code",
   "execution_count": null,
   "metadata": {},
   "outputs": [],
   "source": [
    "5 > 2"
   ]
  },
  {
   "cell_type": "markdown",
   "metadata": {},
   "source": [
    "### Menor que (<)"
   ]
  },
  {
   "cell_type": "code",
   "execution_count": null,
   "metadata": {},
   "outputs": [],
   "source": [
    "4 < 5"
   ]
  },
  {
   "cell_type": "code",
   "execution_count": null,
   "metadata": {},
   "outputs": [],
   "source": [
    "6 < 1"
   ]
  },
  {
   "cell_type": "markdown",
   "metadata": {},
   "source": [
    "### Maior ou igual à que (>=)"
   ]
  },
  {
   "cell_type": "code",
   "execution_count": null,
   "metadata": {},
   "outputs": [],
   "source": [
    "3 >= 3"
   ]
  },
  {
   "cell_type": "code",
   "execution_count": null,
   "metadata": {},
   "outputs": [],
   "source": [
    "2 >= 5"
   ]
  },
  {
   "cell_type": "markdown",
   "metadata": {},
   "source": [
    "### Menor ou igual à que (<=)"
   ]
  },
  {
   "cell_type": "code",
   "execution_count": null,
   "metadata": {},
   "outputs": [],
   "source": [
    "2 <= 5"
   ]
  },
  {
   "cell_type": "code",
   "execution_count": null,
   "metadata": {},
   "outputs": [],
   "source": [
    "3 <= 3"
   ]
  },
  {
   "cell_type": "markdown",
   "metadata": {},
   "source": [
    "### Operadores de comparação em cadeia\n"
   ]
  },
  {
   "cell_type": "markdown",
   "metadata": {},
   "source": [
    "Em python podemos fazer múltiplas comparações para fazer um teste um pouco mais complexo utilizando a lógica boleana. Também iremos cobrir duas declaraões importantes: and e or.\n",
    "Vejamos alguns exemplos:"
   ]
  },
  {
   "cell_type": "code",
   "execution_count": 111,
   "metadata": {},
   "outputs": [
    {
     "data": {
      "text/plain": [
       "True"
      ]
     },
     "execution_count": 111,
     "metadata": {},
     "output_type": "execute_result"
    }
   ],
   "source": [
    "3 < 5 < 6"
   ]
  },
  {
   "cell_type": "markdown",
   "metadata": {},
   "source": [
    "Podemos escrever também essa lógica utilizando a declaração and."
   ]
  },
  {
   "cell_type": "code",
   "execution_count": 112,
   "metadata": {},
   "outputs": [
    {
     "data": {
      "text/plain": [
       "True"
      ]
     },
     "execution_count": 112,
     "metadata": {},
     "output_type": "execute_result"
    }
   ],
   "source": [
    "3 < 5 and 5 < 6"
   ]
  },
  {
   "cell_type": "code",
   "execution_count": 113,
   "metadata": {},
   "outputs": [
    {
     "data": {
      "text/plain": [
       "True"
      ]
     },
     "execution_count": 113,
     "metadata": {},
     "output_type": "execute_result"
    }
   ],
   "source": [
    "5 < 10 > 7"
   ]
  },
  {
   "cell_type": "code",
   "execution_count": 114,
   "metadata": {},
   "outputs": [
    {
     "data": {
      "text/plain": [
       "True"
      ]
     },
     "execution_count": 114,
     "metadata": {},
     "output_type": "execute_result"
    }
   ],
   "source": [
    "5 < 10 and 10 > 7"
   ]
  },
  {
   "cell_type": "markdown",
   "metadata": {},
   "source": [
    "Podemos utilizar o comando or também, porém este vai confirmar que algo é verdadeiro se tiver ao menos uma declaração verdadeira. Exemplo:"
   ]
  },
  {
   "cell_type": "code",
   "execution_count": 115,
   "metadata": {},
   "outputs": [
    {
     "data": {
      "text/plain": [
       "True"
      ]
     },
     "execution_count": 115,
     "metadata": {},
     "output_type": "execute_result"
    }
   ],
   "source": [
    "5 == 5 <100"
   ]
  },
  {
   "cell_type": "markdown",
   "metadata": {},
   "source": [
    "Note que 1 não é maior que 100 e ainda sim temos o retorno de uma comparação verdadeira, já que 5 é igual à 5."
   ]
  },
  {
   "cell_type": "markdown",
   "metadata": {},
   "source": [
    "## Condicionais"
   ]
  },
  {
   "cell_type": "markdown",
   "metadata": {},
   "source": [
    "### Comandos: if, elif, else"
   ]
  },
  {
   "cell_type": "markdown",
   "metadata": {},
   "source": [
    "O código <code>if</code> em python funciona de forma semelhante as outras linguagens de programação. Ele permite escrever código que só será executado se determinadas condições forem atendidas. É como se dissessemos para o computador:\n",
    "\n",
    ">__Se isso ocorer, faça isso!__\n",
    "\n",
    "Podemos também utilizar os comandos <code>elif</code> e <code>else</code>, para complementar essa condicional. Por exemplo:\n",
    "\n",
    ">__Se isso acontecer, faça isso__. Caso contrário:\n",
    "\n",
    ">__Se aquilo acontecer, faça essa outra ação__. Caso contrário:\n",
    "\n",
    ">... ... ...\n",
    "\n",
    ">__E se nenhuma das opções anteriores acontecer: Execute uma ação default.__"
   ]
  },
  {
   "cell_type": "markdown",
   "metadata": {},
   "source": [
    "__Exemplo 1__\n",
    "\n",
    "Vejamos o exemplo:"
   ]
  },
  {
   "cell_type": "code",
   "execution_count": 116,
   "metadata": {},
   "outputs": [
    {
     "name": "stdout",
     "output_type": "stream",
     "text": [
      "10 maior que zero\n"
     ]
    }
   ],
   "source": [
    "x=10\n",
    "if x>0:\n",
    "    print(x,'maior que zero')"
   ]
  },
  {
   "cell_type": "markdown",
   "metadata": {},
   "source": [
    "Observe que a linha na qual o comando <code>if</code> foi inserido deve terminar com <code>:</code>.\n",
    "\n",
    "Abaixo dessa linha é colocado o código que será executado quando a condição imposta ao <code>if</code> for atendida. A identação do código define o bloco de código que pertence ao comando <code>if</code>."
   ]
  },
  {
   "cell_type": "markdown",
   "metadata": {},
   "source": [
    "__Exemplo 2__\n",
    "\n",
    "Agora, usando uma variável auxiliar do tipo bool:"
   ]
  },
  {
   "cell_type": "code",
   "execution_count": 118,
   "metadata": {},
   "outputs": [
    {
     "name": "stdout",
     "output_type": "stream",
     "text": [
      "10 maior que zero\n"
     ]
    }
   ],
   "source": [
    "x = 10\n",
    "if x>0:\n",
    "    print(x,'maior que zero')\n",
    "else:\n",
    "    print(x, 'menor que zero')"
   ]
  },
  {
   "cell_type": "markdown",
   "metadata": {},
   "source": [
    "__Exemplo 3__\n",
    "\n",
    "Testando strings:"
   ]
  },
  {
   "cell_type": "code",
   "execution_count": 121,
   "metadata": {},
   "outputs": [
    {
     "name": "stdout",
     "output_type": "stream",
     "text": [
      "-0.2 menor que zero\n"
     ]
    }
   ],
   "source": [
    "x = -0.2\n",
    "if x>0:\n",
    "    print(x,'maior que zero')\n",
    "elif x==0:\n",
    "    print('x igual a zero')\n",
    "else:\n",
    "    print(x, 'menor que zero')"
   ]
  },
  {
   "cell_type": "markdown",
   "metadata": {},
   "source": [
    "__Exemplo 4__"
   ]
  },
  {
   "cell_type": "code",
   "execution_count": 124,
   "metadata": {},
   "outputs": [
    {
     "name": "stdin",
     "output_type": "stream",
     "text": [
      " as\n"
     ]
    },
    {
     "name": "stdout",
     "output_type": "stream",
     "text": [
      "Operação inválida\n"
     ]
    }
   ],
   "source": [
    "x=input()\n",
    "if(x=='soma'):\n",
    "    print('A+B=10')\n",
    "else:\n",
    "    print('Operação inválida')"
   ]
  },
  {
   "cell_type": "markdown",
   "metadata": {},
   "source": [
    "__Lembre-se__:\n",
    "\n",
    "Podemos escrever quantos <code>elif</code> quisermos após o comando <code>if</code>. Os testes condicionais podem ser fechados com a opção <code>else</code> ou podem terminar sem o <code>else</code>."
   ]
  },
  {
   "cell_type": "markdown",
   "metadata": {},
   "source": [
    "__Exemplo 5__\n",
    "\n",
    "Bloco <code>if</code> com <code>elif</code> mas sem fechamento com <code>else</code>:"
   ]
  },
  {
   "cell_type": "code",
   "execution_count": 127,
   "metadata": {
    "scrolled": true
   },
   "outputs": [
    {
     "name": "stdout",
     "output_type": "stream",
     "text": [
      "=====\n",
      "flag2 foi avaliado como True.\n",
      "=====\n"
     ]
    }
   ],
   "source": [
    "flag1 = 0\n",
    "flag2 = 0.05\n",
    "\n",
    "print('=====')\n",
    "if(flag1):\n",
    "    print('flag1 foi avaliado como True.')\n",
    "elif(flag2):\n",
    "    print('flag2 foi avaliado como True.')\n",
    "print('=====')"
   ]
  },
  {
   "cell_type": "markdown",
   "metadata": {},
   "source": [
    "**Atividade 9:** Escreva uma programa para: <br>\n",
    "a) Ler um valor inteiro do teclado e indicar se o número é par ou ímpar;<br>\n",
    "b) Ler  3  valores  inteiros  (considere que não serão lidos valores iguais) e escrevê-los em ordem crescente; <br>\n",
    "c) Antes de realizar as operações anteriores, verificar se os valores digitados são números."
   ]
  },
  {
   "cell_type": "code",
   "execution_count": 131,
   "metadata": {},
   "outputs": [
    {
     "name": "stdin",
     "output_type": "stream",
     "text": [
      " 3\n"
     ]
    },
    {
     "name": "stdout",
     "output_type": "stream",
     "text": [
      "Impar\n"
     ]
    }
   ],
   "source": [
    "x=input()\n",
    "\n",
    "if int(x)%2:\n",
    "    print('Impar')\n",
    "else:\n",
    "    print('Par')"
   ]
  },
  {
   "cell_type": "code",
   "execution_count": 143,
   "metadata": {},
   "outputs": [
    {
     "name": "stdin",
     "output_type": "stream",
     "text": [
      " 10,5,9\n"
     ]
    },
    {
     "data": {
      "text/plain": [
       "[5, 9, 10]"
      ]
     },
     "execution_count": 143,
     "metadata": {},
     "output_type": "execute_result"
    }
   ],
   "source": [
    "x,y,z=input(),input(),input()\n",
    "y=x.split(',')\n",
    "lista = [int(y[0]), int(y[1]), int(y[2])]\n",
    "lista.sort()\n",
    "lista"
   ]
  },
  {
   "cell_type": "code",
   "execution_count": null,
   "metadata": {},
   "outputs": [],
   "source": []
  }
 ],
 "metadata": {
  "kernelspec": {
   "display_name": "Python 3",
   "language": "python",
   "name": "python3"
  },
  "language_info": {
   "codemirror_mode": {
    "name": "ipython",
    "version": 3
   },
   "file_extension": ".py",
   "mimetype": "text/x-python",
   "name": "python",
   "nbconvert_exporter": "python",
   "pygments_lexer": "ipython3",
   "version": "3.6.8"
  },
  "toc": {
   "base_numbering": 1,
   "nav_menu": {},
   "number_sections": true,
   "sideBar": true,
   "skip_h1_title": true,
   "title_cell": "Table of Contents",
   "title_sidebar": "Contents",
   "toc_cell": true,
   "toc_position": {},
   "toc_section_display": true,
   "toc_window_display": false
  }
 },
 "nbformat": 4,
 "nbformat_minor": 2
}
