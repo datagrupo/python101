{
 "cells": [
  {
   "cell_type": "markdown",
   "metadata": {},
   "source": [
    "# Curso sobre NumPy - Parte 2"
   ]
  },
  {
   "cell_type": "markdown",
   "metadata": {},
   "source": [
    "##  Por que estudar NumPy e Créditos"
   ]
  },
  {
   "cell_type": "markdown",
   "metadata": {},
   "source": [
    "Numpy é a biblioteca de referência em Python para computação numérica. É relevante para ser usado diretamente e também porque serve como \"motor\" para várias outras bibliotecas relevantes do universo Python.\n",
    "\n",
    "Versão 1.0\n",
    "\n",
    "Tradução do tutorial de NumPy disponível no site Machine Learning Plus. [aqui](https://www.machinelearningplus.com/python/numpy-tutorial-python-part2/)"
   ]
  },
  {
   "cell_type": "markdown",
   "metadata": {
    "heading_collapsed": true
   },
   "source": [
    "## Índice"
   ]
  },
  {
   "cell_type": "markdown",
   "metadata": {
    "hidden": true
   },
   "source": [
    "- [Introdução](#Introdução)\n",
    "- [Como pegar a localização de um índice que satisfaça uma determinada condição usando np.where](#Como-pegar-a-localização-de-um-índice-que-satisfaça-uma-determinada-condição-usando-np.where)\n",
    "- [Como importar e exportar dados de um arquivo CSV](#Como-importar-e-exportar-dados-de-um-arquivo-CSV])\n",
    "    - [Como manipular cojunto de dados com colunas de números e texto juntas](#Como-manipular-conjunto-de-dados-com-colunas-de-números-e-texto-juntas)\n",
    "- [Como salvar e carregar objetos numpy](#Como-salvar-e-carregar-objetos-numpy)\n",
    "- [Como concatenar dois arrays numpy por linhas e colunas](#Como-concatenar-dois-arrays-numpy-por-linhas-e-colunas)\n",
    "- [Como ordenar um array numpy baseado em uma ou mais colunas](#Como-ordenar-um-array-numpy-baseado-em-uma-ou-mais-colunas)\n",
    "    - [Como ordenar um array numpy baseado em uma coluna usando argsort](#Como-ordenar-um-array-numpy-baseado-em-uma-coluna-usando-argsort)\n",
    "    - [Como ordenar um array numpy baseado em duas ou mais colunas](#Como-ordenar-um-array-numpy-baseado-em-duas-ou-mais-colunas)\n",
    "-[Trabalhando com datas](#Trabalhando-com-datas)\n",
    "    -[Como criar uma sequência de datas](#Como-criar-uma-sequência-de-datas)\n",
    "    -[Como converter numpy.datetime64 para um objeto datetime.datime](#Como-converter-numpy.datetime64-para-um-objeto-datetime.datime)\n",
    "- [Funções numpy avançadas](#Funções-numpy-avançadas)\n",
    "    - [Vectorize - Utilizando uma função escalar como vetor](#_Vectorize_---Utilizando-uma-função-escalar-como-vetor)\n",
    "    - [apply_along_axis - Usando Column Wise e Row wise](#apply_along_axis---Usando-Column-Wise-e-Row-wise)\n",
    "    - [searchsorted - Encontrole local para inserir na matriz mantendo a organização](#searchsorted---Encontrole-local-para-inserir-na-matriz-mantendo-a-organização)\n",
    "    - [Como adicionar um eixo novo em um numpy array](#Como-adicionar-um-eixo-novo-em-um-numpy-array)\n",
    "    - [Mais funções utéis](#Mais-funções-utéis)\n",
    "- [O que falta no numpy](#O-que-falta-no-numpy)"
   ]
  },
  {
   "cell_type": "markdown",
   "metadata": {},
   "source": [
    "## Introdução"
   ]
  },
  {
   "cell_type": "markdown",
   "metadata": {},
   "source": [
    "Continuaremos de onde paramos.\n",
    "\n",
    "Vale salientar que para estudar este módulo é importante ter estudado a Parte 1 e ter conhecimentos básicos de matemática.\n",
    "\n",
    "A partir daqui, iremos trabalhar com tópicos mais avançados que são essenciais para a análise de dados."
   ]
  },
  {
   "cell_type": "markdown",
   "metadata": {},
   "source": [
    "## Como pegar a localização de um índice que satisfaça uma determinada condição usando np.where?"
   ]
  },
  {
   "cell_type": "markdown",
   "metadata": {},
   "source": [
    "`np.where` deve ser utilizada quando se quer saber a posição (ou o índice) de um determinado item, que satisfaz uma condição. o retorno da função `where()` são os indices do vetor.\n",
    "\n",
    "__Por exemplo:__"
   ]
  },
  {
   "cell_type": "code",
   "execution_count": 56,
   "metadata": {},
   "outputs": [
    {
     "name": "stdout",
     "output_type": "stream",
     "text": [
      "Array:  [8 8 3 7 7 0 4 2 5 2]\n",
      "Posições onde (valor > 5):  (array([0, 1, 3, 4]),)\n"
     ]
    }
   ],
   "source": [
    "import numpy as np\n",
    "arr_rand = np.array([8, 8, 3, 7, 7, 0, 4, 2, 5, 2])\n",
    "print(\"Array: \", arr_rand)\n",
    "\n",
    "index_gt5 = np.where(arr_rand > 5)\n",
    "print(\"Posições onde (valor > 5): \", index_gt5)"
   ]
  },
  {
   "cell_type": "markdown",
   "metadata": {},
   "source": [
    "Tendo as posições, você pode extrair os valores usando o método <code>take()</code>. Observe no exemplo:"
   ]
  },
  {
   "cell_type": "code",
   "execution_count": 57,
   "metadata": {},
   "outputs": [
    {
     "data": {
      "text/plain": [
       "array([[8, 8, 7, 7]])"
      ]
     },
     "execution_count": 57,
     "metadata": {},
     "output_type": "execute_result"
    }
   ],
   "source": [
    "arr_rand.take(index_gt5)"
   ]
  },
  {
   "cell_type": "markdown",
   "metadata": {},
   "source": [
    "O <code>np.where()</code> também aceita 2 argumentos opcionais além da condição: x e y. Sempre que a condição é verdadeira, x é assumido. Caso contrário, y é utilizado. \n",
    "\n",
    "Abaixo, foi criado um array cujos valores recebem a string 'gt5' sempre que a condição for verdadeira e caso contrário, os valores recebem 'lt5'."
   ]
  },
  {
   "cell_type": "code",
   "execution_count": 58,
   "metadata": {},
   "outputs": [
    {
     "data": {
      "text/plain": [
       "array([8, 8, 3, 7, 7, 0, 4, 2, 5, 2])"
      ]
     },
     "execution_count": 58,
     "metadata": {},
     "output_type": "execute_result"
    }
   ],
   "source": [
    "arr_rand"
   ]
  },
  {
   "cell_type": "code",
   "execution_count": 59,
   "metadata": {},
   "outputs": [
    {
     "data": {
      "text/plain": [
       "array(['gt5', 'gt5', 'lt5', 'gt5', 'gt5', 'lt5', 'lt5', 'lt5', 'lt5',\n",
       "       'lt5'], dtype='<U3')"
      ]
     },
     "execution_count": 59,
     "metadata": {},
     "output_type": "execute_result"
    }
   ],
   "source": [
    "np.where(arr_rand > 5, 'gt5', 'lt5')"
   ]
  },
  {
   "cell_type": "markdown",
   "metadata": {},
   "source": [
    "Para encontrar a posição do valor máximo e do valor mínimo utilizamos <code>argmax</code> e <code>argmin</code>, respectivamente."
   ]
  },
  {
   "cell_type": "code",
   "execution_count": 60,
   "metadata": {},
   "outputs": [
    {
     "name": "stdout",
     "output_type": "stream",
     "text": [
      "Posição do valor máximo:  0\n",
      "Posição do valor mínimo:  5\n"
     ]
    }
   ],
   "source": [
    "print('Posição do valor máximo: ', np.argmax(arr_rand))  \n",
    "print('Posição do valor mínimo: ', np.argmin(arr_rand))"
   ]
  },
  {
   "cell_type": "markdown",
   "metadata": {},
   "source": [
    "## Como importar e exportar dados de um arquivo CSV"
   ]
  },
  {
   "cell_type": "markdown",
   "metadata": {},
   "source": [
    "O caminho padrão para importar conjuntos de dados é usar a função <code>np.genfromtxt</code>. \n",
    "\n",
    "Esta função pode importar dados com URLs da web, lidar com valores ausentes, vários delimitadores, lidar com o número irregular de colunas, etc.\n",
    "\n",
    "Uma versão menos versátil é <code>np.loadtxt</code>, que supõe que o conjunto de dados não possui valores ausentes.\n",
    "\n",
    "Como exemplo, vamos ler um arquivo csv da URL:\n",
    ">https://raw.githubusercontent.com/selva86/datasets/master/Auto.csv\n",
    "\n",
    "Como todos os elementos em um array numpy devem ser do mesmo tipo de dados, a última coluna que é um texto será importada como \"NaN\" (_Not a Number_) por padrão.\n",
    "\n",
    "Ao definir o argumento <code>filling_values</code>, você pode substituir os valores omissos por outra \"coisa\"."
   ]
  },
  {
   "cell_type": "code",
   "execution_count": 61,
   "metadata": {},
   "outputs": [
    {
     "data": {
      "text/plain": [
       "array([[  18. ,    8. ,  307. ,  130. , 3504. ,   12. ,   70. ,    1. ,\n",
       "        -999. ],\n",
       "       [  15. ,    8. ,  350. ,  165. , 3693. ,   11.5,   70. ,    1. ,\n",
       "        -999. ],\n",
       "       [  18. ,    8. ,  318. ,  150. , 3436. ,   11. ,   70. ,    1. ,\n",
       "        -999. ]])"
      ]
     },
     "execution_count": 61,
     "metadata": {},
     "output_type": "execute_result"
    }
   ],
   "source": [
    "np.set_printoptions(suppress=True)  # Desabilita a notação cientifica\n",
    "\n",
    "# path = 'https://raw.githubusercontent.com/selva86/datasets/master/Auto.csv'\n",
    "path = 'data/example.csv'\n",
    "\n",
    "data = np.genfromtxt(path, delimiter=',', skip_header=1, filling_values=-999, dtype='float')\n",
    "\n",
    "data[:3]  # Visualiza os três primeiros elementos"
   ]
  },
  {
   "cell_type": "markdown",
   "metadata": {},
   "source": [
    "Você percebeu que todos os valores da última coluna têm o mesmo valor \"-999\"?\n",
    "\n",
    "Isso aconteceu porque a última coluna no arquivo continha valores de texto que foram substituídos pelo parâmetro `filling_values` fornecido."
   ]
  },
  {
   "cell_type": "markdown",
   "metadata": {},
   "source": [
    "### Como manipular conjuntos de dados com colunas de números e de texto juntas?"
   ]
  },
  {
   "cell_type": "markdown",
   "metadata": {},
   "source": [
    "v1. No caso, você DEVE ter a coluna de texto como está, sem substituí-la por um espaço reservado, você pode definir o dtype como _Object_ (Objeto) ou como _None_ (Nenhum).\n",
    "\n",
    "v2. Uma outra maneira, é gerar o array numpy com o tipo de dados `string`. Para isso, devemos utilizar o argumento `dtype=U`, onde `U` especifica o tipo `int32` definido pelo padrão `unicode`. Caso seja adicionado algum número ao tipo `U`, esse número definirá a quantidade de caracteres que deverá ser lido ou escrito."
   ]
  },
  {
   "cell_type": "code",
   "execution_count": 62,
   "metadata": {},
   "outputs": [
    {
     "data": {
      "text/plain": [
       "array([['12', '70', '1', '\"chevrolet chevelle malibu\"'],\n",
       "       ['11.5', '70', '1', '\"buick skylark 320\"'],\n",
       "       ['11', '70', '1', '\"plymouth satellite\"']], dtype='<U27')"
      ]
     },
     "execution_count": 62,
     "metadata": {},
     "output_type": "execute_result"
    }
   ],
   "source": [
    "# data2 = np.genfromtxt(path, delimiter=',', skip_header=1, dtype='object')\n",
    "data2 = np.genfromtxt(path, delimiter=',', skip_header=1, dtype='U')\n",
    "# data2 = np.genfromtxt(path, delimiter=',', skip_header=1, dtype=None)\n",
    "data2[:3,5:9]"
   ]
  },
  {
   "cell_type": "markdown",
   "metadata": {},
   "source": [
    "Para exportar o array como um arquivo .CSV, utilizamos `np.savetxt`. Novamente, na situação em que o array `numpy` tem tipos diferentes, é interessante que os elementos sejam escritos no arquivo como strings. Para isso utilizamos o argumento `fmt='%s'`, indicando que o formato a ser escrito é to ."
   ]
  },
  {
   "cell_type": "code",
   "execution_count": 63,
   "metadata": {},
   "outputs": [],
   "source": [
    "np.savetxt(\"out.csv\", data2, fmt=\"%s\", delimiter=\",\")"
   ]
  },
  {
   "cell_type": "code",
   "execution_count": 64,
   "metadata": {},
   "outputs": [
    {
     "name": "stdout",
     "output_type": "stream",
     "text": [
      "Help on function savetxt in module numpy.lib.npyio:\n",
      "\n",
      "savetxt(fname, X, fmt='%.18e', delimiter=' ', newline='\\n', header='', footer='', comments='# ', encoding=None)\n",
      "    Save an array to a text file.\n",
      "    \n",
      "    Parameters\n",
      "    ----------\n",
      "    fname : filename or file handle\n",
      "        If the filename ends in ``.gz``, the file is automatically saved in\n",
      "        compressed gzip format.  `loadtxt` understands gzipped files\n",
      "        transparently.\n",
      "    X : 1D or 2D array_like\n",
      "        Data to be saved to a text file.\n",
      "    fmt : str or sequence of strs, optional\n",
      "        A single format (%10.5f), a sequence of formats, or a\n",
      "        multi-format string, e.g. 'Iteration %d -- %10.5f', in which\n",
      "        case `delimiter` is ignored. For complex `X`, the legal options\n",
      "        for `fmt` are:\n",
      "    \n",
      "        * a single specifier, `fmt='%.4e'`, resulting in numbers formatted\n",
      "          like `' (%s+%sj)' % (fmt, fmt)`\n",
      "        * a full string specifying every real and imaginary part, e.g.\n",
      "          `' %.4e %+.4ej %.4e %+.4ej %.4e %+.4ej'` for 3 columns\n",
      "        * a list of specifiers, one per column - in this case, the real\n",
      "          and imaginary part must have separate specifiers,\n",
      "          e.g. `['%.3e + %.3ej', '(%.15e%+.15ej)']` for 2 columns\n",
      "    delimiter : str, optional\n",
      "        String or character separating columns.\n",
      "    newline : str, optional\n",
      "        String or character separating lines.\n",
      "    \n",
      "        .. versionadded:: 1.5.0\n",
      "    header : str, optional\n",
      "        String that will be written at the beginning of the file.\n",
      "    \n",
      "        .. versionadded:: 1.7.0\n",
      "    footer : str, optional\n",
      "        String that will be written at the end of the file.\n",
      "    \n",
      "        .. versionadded:: 1.7.0\n",
      "    comments : str, optional\n",
      "        String that will be prepended to the ``header`` and ``footer`` strings,\n",
      "        to mark them as comments. Default: '# ',  as expected by e.g.\n",
      "        ``numpy.loadtxt``.\n",
      "    \n",
      "        .. versionadded:: 1.7.0\n",
      "    encoding : {None, str}, optional\n",
      "        Encoding used to encode the outputfile. Does not apply to output\n",
      "        streams. If the encoding is something other than 'bytes' or 'latin1'\n",
      "        you will not be able to load the file in NumPy versions < 1.14. Default\n",
      "        is 'latin1'.\n",
      "    \n",
      "        .. versionadded:: 1.14.0\n",
      "    \n",
      "    \n",
      "    See Also\n",
      "    --------\n",
      "    save : Save an array to a binary file in NumPy ``.npy`` format\n",
      "    savez : Save several arrays into an uncompressed ``.npz`` archive\n",
      "    savez_compressed : Save several arrays into a compressed ``.npz`` archive\n",
      "    \n",
      "    Notes\n",
      "    -----\n",
      "    Further explanation of the `fmt` parameter\n",
      "    (``%[flag]width[.precision]specifier``):\n",
      "    \n",
      "    flags:\n",
      "        ``-`` : left justify\n",
      "    \n",
      "        ``+`` : Forces to precede result with + or -.\n",
      "    \n",
      "        ``0`` : Left pad the number with zeros instead of space (see width).\n",
      "    \n",
      "    width:\n",
      "        Minimum number of characters to be printed. The value is not truncated\n",
      "        if it has more characters.\n",
      "    \n",
      "    precision:\n",
      "        - For integer specifiers (eg. ``d,i,o,x``), the minimum number of\n",
      "          digits.\n",
      "        - For ``e, E`` and ``f`` specifiers, the number of digits to print\n",
      "          after the decimal point.\n",
      "        - For ``g`` and ``G``, the maximum number of significant digits.\n",
      "        - For ``s``, the maximum number of characters.\n",
      "    \n",
      "    specifiers:\n",
      "        ``c`` : character\n",
      "    \n",
      "        ``d`` or ``i`` : signed decimal integer\n",
      "    \n",
      "        ``e`` or ``E`` : scientific notation with ``e`` or ``E``.\n",
      "    \n",
      "        ``f`` : decimal floating point\n",
      "    \n",
      "        ``g,G`` : use the shorter of ``e,E`` or ``f``\n",
      "    \n",
      "        ``o`` : signed octal\n",
      "    \n",
      "        ``s`` : string of characters\n",
      "    \n",
      "        ``u`` : unsigned decimal integer\n",
      "    \n",
      "        ``x,X`` : unsigned hexadecimal integer\n",
      "    \n",
      "    This explanation of ``fmt`` is not complete, for an exhaustive\n",
      "    specification see [1]_.\n",
      "    \n",
      "    References\n",
      "    ----------\n",
      "    .. [1] `Format Specification Mini-Language\n",
      "           <http://docs.python.org/library/string.html#\n",
      "           format-specification-mini-language>`_, Python Documentation.\n",
      "    \n",
      "    Examples\n",
      "    --------\n",
      "    >>> x = y = z = np.arange(0.0,5.0,1.0)\n",
      "    >>> np.savetxt('test.out', x, delimiter=',')   # X is an array\n",
      "    >>> np.savetxt('test.out', (x,y,z))   # x,y,z equal sized 1D arrays\n",
      "    >>> np.savetxt('test.out', x, fmt='%1.4e')   # use exponential notation\n",
      "\n"
     ]
    }
   ],
   "source": [
    "help(np.savetxt)"
   ]
  },
  {
   "cell_type": "markdown",
   "metadata": {},
   "source": [
    "## Como salvar e carregar objetos numpy"
   ]
  },
  {
   "cell_type": "markdown",
   "metadata": {},
   "source": [
    "Em algum momento, desejaremos salvar grandes arrays numpy transformadas em disco e carregá-lo de volta para o console diretamente, sem ter que executar novamente o código de transformações de dados.\n",
    "\n",
    "O Numpy fornece os tipos de arquivo .npy e .npz para essa finalidade.\n",
    "\n",
    "Se você deseja armazenar um único objeto ndarray, armazene-o como um arquivo .npy usando <code>np.save</code>. Pode ser carregado de volta usando o <code>np.load</code>.\n",
    "\n",
    "Se você quiser armazenar mais de um objeto ndarray em um único arquivo, salve-o como um arquivo .npz usando <code>np.savez</code>."
   ]
  },
  {
   "cell_type": "code",
   "execution_count": 65,
   "metadata": {},
   "outputs": [],
   "source": [
    "arr2d = np.array([8, 8, 3, 7, 7, 0, 4, 2, 5, 2])\n",
    "arr2d_f = np.array([0,0,0,0,0,0,0,0,0,0,0])\n",
    "arr2d_b = np.array([1,1,1,1,1,1,1,1,1,1])\n",
    "\n",
    "np.save('myarray.npy', arr2d)  \n",
    "\n",
    "np.savez('array.npz', arr2d_f, arr2d_b)"
   ]
  },
  {
   "cell_type": "markdown",
   "metadata": {},
   "source": [
    "Para carregar o arquivo .npy"
   ]
  },
  {
   "cell_type": "code",
   "execution_count": 66,
   "metadata": {},
   "outputs": [
    {
     "name": "stdout",
     "output_type": "stream",
     "text": [
      "[8 8 3 7 7 0 4 2 5 2]\n"
     ]
    }
   ],
   "source": [
    "a = np.load('myarray.npy')\n",
    "print(a)"
   ]
  },
  {
   "cell_type": "markdown",
   "metadata": {},
   "source": [
    "Para carregar o arquivo .npz"
   ]
  },
  {
   "cell_type": "code",
   "execution_count": 67,
   "metadata": {},
   "outputs": [
    {
     "name": "stdout",
     "output_type": "stream",
     "text": [
      "['arr_0', 'arr_1']\n"
     ]
    },
    {
     "data": {
      "text/plain": [
       "array([1, 1, 1, 1, 1, 1, 1, 1, 1, 1])"
      ]
     },
     "execution_count": 67,
     "metadata": {},
     "output_type": "execute_result"
    }
   ],
   "source": [
    "b = np.load('array.npz')\n",
    "print(b.files)\n",
    "b['arr_1']"
   ]
  },
  {
   "cell_type": "markdown",
   "metadata": {
    "heading_collapsed": true
   },
   "source": [
    "## Como concatenar dois arrays numpy por linhas e colunas"
   ]
  },
  {
   "cell_type": "markdown",
   "metadata": {
    "hidden": true
   },
   "source": [
    "Existem 3 maneiras diferentes de concatenar duas ou mais matrizes numpy.\n",
    "\n",
    "     Método 1: np.concatenate alterando o parâmetro do eixo para 0 e 1\n",
    "     Método 2: np.vstack e np.hstack\n",
    "     Método 3: np.r_ e np.c_\n",
    "\n",
    "Todos os três métodos fornecem a mesma saída.\n",
    "\n",
    "A diferença chave é que np.r_ como np.c_ usam colchetes para empilhar matrizes. Mas primeiro, vamos criar as matrizes a serem concatenadas."
   ]
  },
  {
   "cell_type": "code",
   "execution_count": 68,
   "metadata": {
    "hidden": true
   },
   "outputs": [
    {
     "name": "stdout",
     "output_type": "stream",
     "text": [
      "[[0. 0. 0. 0.]\n",
      " [0. 0. 0. 0.]\n",
      " [0. 0. 0. 0.]\n",
      " [0. 0. 0. 0.]]\n",
      "[[1. 1. 1. 1.]\n",
      " [1. 1. 1. 1.]\n",
      " [1. 1. 1. 1.]\n",
      " [1. 1. 1. 1.]]\n"
     ]
    }
   ],
   "source": [
    "a = np.zeros([4, 4])\n",
    "b = np.ones([4, 4])\n",
    "print(a)\n",
    "print(b)"
   ]
  },
  {
   "cell_type": "markdown",
   "metadata": {
    "hidden": true
   },
   "source": [
    "Vamos empilhar as matrizes verticalmente."
   ]
  },
  {
   "cell_type": "code",
   "execution_count": 69,
   "metadata": {
    "hidden": true
   },
   "outputs": [
    {
     "data": {
      "text/plain": [
       "array([[0., 0., 0., 0.],\n",
       "       [0., 0., 0., 0.],\n",
       "       [0., 0., 0., 0.],\n",
       "       [0., 0., 0., 0.],\n",
       "       [1., 1., 1., 1.],\n",
       "       [1., 1., 1., 1.],\n",
       "       [1., 1., 1., 1.],\n",
       "       [1., 1., 1., 1.]])"
      ]
     },
     "execution_count": 69,
     "metadata": {},
     "output_type": "execute_result"
    }
   ],
   "source": [
    "np.concatenate([a, b], axis=0)\n",
    "np.vstack([a,b])  \n",
    "np.r_[a,b] "
   ]
  },
  {
   "cell_type": "markdown",
   "metadata": {
    "hidden": true
   },
   "source": [
    "Era isso que queríamos. Vamos fazer isso horizontalmente (_columns wise_) também."
   ]
  },
  {
   "cell_type": "code",
   "execution_count": 70,
   "metadata": {
    "hidden": true
   },
   "outputs": [
    {
     "data": {
      "text/plain": [
       "array([[0., 0., 0., 0., 1., 1., 1., 1.],\n",
       "       [0., 0., 0., 0., 1., 1., 1., 1.],\n",
       "       [0., 0., 0., 0., 1., 1., 1., 1.],\n",
       "       [0., 0., 0., 0., 1., 1., 1., 1.]])"
      ]
     },
     "execution_count": 70,
     "metadata": {},
     "output_type": "execute_result"
    }
   ],
   "source": [
    "np.concatenate([a, b], axis=1) \n",
    "np.hstack([a,b])  \n",
    "np.c_[a,b]"
   ]
  },
  {
   "cell_type": "markdown",
   "metadata": {
    "hidden": true
   },
   "source": [
    "Além disso, você pode usar <code>np.r_</code> para criar seqüências numéricas mais complexas em arrays 1d."
   ]
  },
  {
   "cell_type": "code",
   "execution_count": 71,
   "metadata": {
    "hidden": true
   },
   "outputs": [
    {
     "data": {
      "text/plain": [
       "array([1, 2, 3, 0, 0, 4, 5, 6])"
      ]
     },
     "execution_count": 71,
     "metadata": {},
     "output_type": "execute_result"
    }
   ],
   "source": [
    "np.r_[[1,2,3], 0, 0, [4,5,6]]"
   ]
  },
  {
   "cell_type": "markdown",
   "metadata": {
    "hidden": true
   },
   "source": [
    "***\n",
    "#### Atividade 1\n",
    "\n",
    "a) Faça um programa para substituir os números impares do array: [0, 1, 2, 3, 4, 5, 6, 7, 8, 9] por -1 sem mudar o array.\n",
    "\n",
    "b) Converter o array 1D <code> np.arange(10)</code> para um array 2D com duas linhas.\n",
    "\n",
    "c) Recupere o array: 'array.npz' concatene verticalmente os dois array e armazene o resultado no array1.npz\n",
    "\n",
    "***"
   ]
  },
  {
   "cell_type": "code",
   "execution_count": 72,
   "metadata": {
    "hidden": true
   },
   "outputs": [
    {
     "name": "stdout",
     "output_type": "stream",
     "text": [
      "[0 1 2 3 4 5 6 7 8 9]\n",
      "['arr_0', 'arr_1']\n",
      "array 2:  [0 0 0 0 0 0 0 0 0 0 0 1 1 1 1 1 1 1 1 1 1]\n",
      "['arr_0', 'arr_1', 'arr_2']\n",
      "[0 0 0 0 0 0 0 0 0 0 0]\n",
      "[1 1 1 1 1 1 1 1 1 1]\n",
      "[0 0 0 0 0 0 0 0 0 0 0 1 1 1 1 1 1 1 1 1 1]\n"
     ]
    }
   ],
   "source": [
    "#Solução 1\n",
    "arr = np.arange(10)\n",
    "out = np.where(arr % 2 == 1, -1, arr)\n",
    "print(arr)\n",
    "out\n",
    "\n",
    "#Solução 2\n",
    "arr = np.arange(10)\n",
    "arr.reshape(2, -1)\n",
    "\n",
    "#Solução 3\n",
    "a = np.load('array.npz')\n",
    "print(a.files)\n",
    "#b['arr_0']\n",
    "arr_2 = np.r_[a['arr_0'],a['arr_1']]\n",
    "print(\"array 2: \", arr_2)\n",
    "np.savez('array1.npz', a['arr_0'],a['arr_1'], arr_2) #melhorar\n",
    "\n",
    "d = np.load('array1.npz')\n",
    "print(d.files)\n",
    "print(d['arr_0'])\n",
    "print(d['arr_1'])\n",
    "print(d['arr_2'])"
   ]
  },
  {
   "cell_type": "markdown",
   "metadata": {
    "heading_collapsed": true
   },
   "source": [
    "## Como ordenar um array numpy baseado em uma ou mais colunas"
   ]
  },
  {
   "cell_type": "markdown",
   "metadata": {
    "hidden": true
   },
   "source": [
    "Vamos tentar classificar uma matriz 2d com base na primeira coluna."
   ]
  },
  {
   "cell_type": "code",
   "execution_count": 73,
   "metadata": {
    "hidden": true
   },
   "outputs": [
    {
     "data": {
      "text/plain": [
       "array([[5, 1, 1, 5],\n",
       "       [4, 4, 4, 4],\n",
       "       [1, 5, 2, 5],\n",
       "       [1, 3, 1, 1],\n",
       "       [1, 3, 5, 1],\n",
       "       [1, 5, 5, 4],\n",
       "       [1, 3, 5, 3],\n",
       "       [1, 3, 3, 5]])"
      ]
     },
     "execution_count": 73,
     "metadata": {},
     "output_type": "execute_result"
    }
   ],
   "source": [
    "arr = np.random.randint(1,6, size=[8, 4])\n",
    "arr"
   ]
  },
  {
   "cell_type": "markdown",
   "metadata": {
    "hidden": true
   },
   "source": [
    "Nós temos um array aleatório de 8 linhas e 4 colunas.\n",
    "\n",
    "Se você usar a função <code>np.sort</code> com <code>axis = 0</code>, todas as colunas serão classificadas em ordem crescente, independentemente uma da outra, comprometendo efetivamente a integridade dos itens da linha. Em termos simples, os valores em cada linha são corrompidos com valores de outras linhas."
   ]
  },
  {
   "cell_type": "code",
   "execution_count": 74,
   "metadata": {
    "hidden": true
   },
   "outputs": [
    {
     "data": {
      "text/plain": [
       "array([[1, 1, 1, 1],\n",
       "       [1, 3, 1, 1],\n",
       "       [1, 3, 2, 3],\n",
       "       [1, 3, 3, 4],\n",
       "       [1, 3, 4, 4],\n",
       "       [1, 4, 5, 5],\n",
       "       [4, 5, 5, 5],\n",
       "       [5, 5, 5, 5]])"
      ]
     },
     "execution_count": 74,
     "metadata": {},
     "output_type": "execute_result"
    }
   ],
   "source": [
    "np.sort(arr, axis=0)"
   ]
  },
  {
   "cell_type": "markdown",
   "metadata": {
    "hidden": true
   },
   "source": [
    "Como não queremos que o conteúdo das linhas seja perturbado, recorro a um método indireto usando o <code>np.argsort</code>."
   ]
  },
  {
   "cell_type": "markdown",
   "metadata": {
    "hidden": true
   },
   "source": [
    "### Como ordenar um array numpy baseado em uma coluna usando argsort"
   ]
  },
  {
   "cell_type": "markdown",
   "metadata": {
    "hidden": true
   },
   "source": [
    "Vamos primeiro entender o que o <code>np.argsort</code> faz.\n",
    "\n",
    "O<code>np.argsort</code> retorna as posições do índice que tornariam uma determinada matriz 1d classificada."
   ]
  },
  {
   "cell_type": "code",
   "execution_count": 75,
   "metadata": {
    "hidden": true
   },
   "outputs": [
    {
     "name": "stdout",
     "output_type": "stream",
     "text": [
      "[0 3 2 4 5 1]\n"
     ]
    }
   ],
   "source": [
    "x = np.array([1, 10, 5, 2, 8, 9])\n",
    "sort_index = np.argsort(x)\n",
    "print(sort_index)"
   ]
  },
  {
   "cell_type": "markdown",
   "metadata": {
    "hidden": true
   },
   "source": [
    "Como interpretar isso?\n",
    "\n",
    "Na matriz \"x\", o item 0 é o menor, o terceiro item é o segundo menor e assim por diante."
   ]
  },
  {
   "cell_type": "code",
   "execution_count": 76,
   "metadata": {
    "hidden": true
   },
   "outputs": [
    {
     "data": {
      "text/plain": [
       "array([ 1,  2,  5,  8,  9, 10])"
      ]
     },
     "execution_count": 76,
     "metadata": {},
     "output_type": "execute_result"
    }
   ],
   "source": [
    "x[sort_index]"
   ]
  },
  {
   "cell_type": "markdown",
   "metadata": {
    "hidden": true
   },
   "source": [
    "Agora, a fim de classificar o <code>arr</code> original, eu vou fazer um argsort na primeira coluna e usar as posições de índice resultantes para classificar <code>arr</code>. Veja o código.\n"
   ]
  },
  {
   "cell_type": "code",
   "execution_count": 77,
   "metadata": {
    "hidden": true
   },
   "outputs": [
    {
     "data": {
      "text/plain": [
       "array([[1, 5, 2, 5],\n",
       "       [1, 3, 1, 1],\n",
       "       [1, 3, 5, 1],\n",
       "       [1, 5, 5, 4],\n",
       "       [1, 3, 5, 3],\n",
       "       [1, 3, 3, 5],\n",
       "       [4, 4, 4, 4],\n",
       "       [5, 1, 1, 5]])"
      ]
     },
     "execution_count": 77,
     "metadata": {},
     "output_type": "execute_result"
    }
   ],
   "source": [
    "sorted_index_1stcol = arr[:, 0].argsort()\n",
    "\n",
    "arr[sorted_index_1stcol]"
   ]
  },
  {
   "cell_type": "markdown",
   "metadata": {
    "hidden": true
   },
   "source": [
    "Para classificá-lo em ordem decrescente, simplesmente inverta o índice argsorted."
   ]
  },
  {
   "cell_type": "code",
   "execution_count": 78,
   "metadata": {
    "hidden": true
   },
   "outputs": [
    {
     "data": {
      "text/plain": [
       "array([[5, 1, 1, 5],\n",
       "       [4, 4, 4, 4],\n",
       "       [1, 3, 3, 5],\n",
       "       [1, 3, 5, 3],\n",
       "       [1, 5, 5, 4],\n",
       "       [1, 3, 5, 1],\n",
       "       [1, 3, 1, 1],\n",
       "       [1, 5, 2, 5]])"
      ]
     },
     "execution_count": 78,
     "metadata": {},
     "output_type": "execute_result"
    }
   ],
   "source": [
    "arr[sorted_index_1stcol[::-1]]"
   ]
  },
  {
   "cell_type": "markdown",
   "metadata": {
    "hidden": true
   },
   "source": [
    "### Como ordenar um array numpy baseado em duas ou mais colunas"
   ]
  },
  {
   "cell_type": "markdown",
   "metadata": {
    "hidden": true
   },
   "source": [
    "Você pode fazer isso usando o <code>np.lexsort</code> passando uma tupla de colunas com base na qual a matriz deve ser classificada.\n",
    "\n",
    "Apenas lembre-se de colocar a coluna a ser ordenada primeiro no lado mais à direita dentro da tupla."
   ]
  },
  {
   "cell_type": "code",
   "execution_count": 79,
   "metadata": {
    "hidden": true
   },
   "outputs": [
    {
     "data": {
      "text/plain": [
       "array([[1, 3, 1, 1],\n",
       "       [1, 3, 5, 1],\n",
       "       [1, 3, 5, 3],\n",
       "       [1, 3, 3, 5],\n",
       "       [1, 5, 2, 5],\n",
       "       [1, 5, 5, 4],\n",
       "       [4, 4, 4, 4],\n",
       "       [5, 1, 1, 5]])"
      ]
     },
     "execution_count": 79,
     "metadata": {},
     "output_type": "execute_result"
    }
   ],
   "source": [
    "lexsorted_index = np.lexsort((arr[:, 1], arr[:, 0])) \n",
    "arr[lexsorted_index]"
   ]
  },
  {
   "cell_type": "markdown",
   "metadata": {
    "heading_collapsed": true
   },
   "source": [
    "## Trabalhando com datas"
   ]
  },
  {
   "cell_type": "markdown",
   "metadata": {
    "hidden": true
   },
   "source": [
    "Numpy implementa datas através do objeto <code>np.datetime64</code> que suporta uma precisão até nanossegundos. Você pode criar um usando as sequências de datas formatadas no padrão: AAAA-MM-DD ."
   ]
  },
  {
   "cell_type": "code",
   "execution_count": 80,
   "metadata": {
    "hidden": true
   },
   "outputs": [
    {
     "data": {
      "text/plain": [
       "numpy.datetime64('2018-02-04T23:10:10')"
      ]
     },
     "execution_count": 80,
     "metadata": {},
     "output_type": "execute_result"
    }
   ],
   "source": [
    "date64 = np.datetime64('2018-02-04 23:10:10')\n",
    "date64"
   ]
  },
  {
   "cell_type": "markdown",
   "metadata": {
    "hidden": true
   },
   "source": [
    "Claro que você pode passar horas, minutos, segundos até nanossegundos também.\n",
    "\n",
    "Vamos remover o componente de tempo de <code>data64.</code>"
   ]
  },
  {
   "cell_type": "code",
   "execution_count": 81,
   "metadata": {
    "hidden": true
   },
   "outputs": [
    {
     "data": {
      "text/plain": [
       "numpy.datetime64('2018-02-04')"
      ]
     },
     "execution_count": 81,
     "metadata": {},
     "output_type": "execute_result"
    }
   ],
   "source": [
    "dt64 = np.datetime64(date64, 'D')\n",
    "dt64"
   ]
  },
  {
   "cell_type": "markdown",
   "metadata": {
    "hidden": true
   },
   "source": [
    "Por padrão, se você adicionar um número, aumenta o número de dias. Mas se você precisar aumentar qualquer outra unidade de tempo como meses, horas, segundos, etc, então o objeto <code>timedelta</code> é muito conveniente."
   ]
  },
  {
   "cell_type": "code",
   "execution_count": 82,
   "metadata": {
    "hidden": true
   },
   "outputs": [
    {
     "name": "stdout",
     "output_type": "stream",
     "text": [
      "Adiciona 10 dias:  2018-02-14\n",
      "Adiciona 10 minutos:  2018-02-04T00:10\n",
      "Adiciona 10 segundos:  2018-02-04T00:00:10\n",
      "Adiciona 10 nanosegundos:  2018-02-04T00:00:00.000000010\n"
     ]
    }
   ],
   "source": [
    "tenminutes = np.timedelta64(10, 'm')  # 10 minutes\n",
    "tenseconds = np.timedelta64(10, 's')  # 10 seconds\n",
    "tennanoseconds = np.timedelta64(10, 'ns')  # 10 nanoseconds\n",
    "\n",
    "print('Adiciona 10 dias: ', dt64 + 10)\n",
    "print('Adiciona 10 minutos: ', dt64 + tenminutes)\n",
    "print('Adiciona 10 segundos: ', dt64 + tenseconds)\n",
    "print('Adiciona 10 nanosegundos: ', dt64 + tennanoseconds)"
   ]
  },
  {
   "cell_type": "markdown",
   "metadata": {
    "hidden": true
   },
   "source": [
    "Vamos converter o <code>dt64</code> de volta para string"
   ]
  },
  {
   "cell_type": "code",
   "execution_count": 83,
   "metadata": {
    "hidden": true
   },
   "outputs": [
    {
     "data": {
      "text/plain": [
       "'2018-02-04'"
      ]
     },
     "execution_count": 83,
     "metadata": {},
     "output_type": "execute_result"
    }
   ],
   "source": [
    "np.datetime_as_string(dt64)"
   ]
  },
  {
   "cell_type": "markdown",
   "metadata": {
    "hidden": true
   },
   "source": [
    "Ao trabalhar com datas, você precisaria filtrar os dias úteis dos dados. Você pode saber se uma determinada data é um dia útil ou não usando o np.is_busday ()."
   ]
  },
  {
   "cell_type": "code",
   "execution_count": 84,
   "metadata": {
    "hidden": true
   },
   "outputs": [
    {
     "name": "stdout",
     "output_type": "stream",
     "text": [
      "Data:  2018-02-04\n",
      "É um dia útil?:  False\n",
      "Adicione 2 dias, avançando para o dia útil mais próximo:  2018-02-07\n",
      "Adicione 2 dias, retrocedendo para o dia útil mais próximo:  2018-02-06\n"
     ]
    }
   ],
   "source": [
    "print('Data: ', dt64)\n",
    "print(\"É um dia útil?: \", np.is_busday(dt64))  \n",
    "print(\"Adicione 2 dias, avançando para o dia útil mais próximo: \", np.busday_offset(dt64, 2, roll='forward'))  \n",
    "print(\"Adicione 2 dias, retrocedendo para o dia útil mais próximo: \", np.busday_offset(dt64, 2, roll='backward'))  "
   ]
  },
  {
   "cell_type": "markdown",
   "metadata": {
    "hidden": true
   },
   "source": [
    "### Como criar uma sequência de datas"
   ]
  },
  {
   "cell_type": "markdown",
   "metadata": {
    "hidden": true
   },
   "source": [
    "Pode simplesmente ser feito usando o próprio <code>np.arange</code>."
   ]
  },
  {
   "cell_type": "code",
   "execution_count": 85,
   "metadata": {
    "hidden": true
   },
   "outputs": [
    {
     "name": "stdout",
     "output_type": "stream",
     "text": [
      "['2018-02-01' '2018-02-02' '2018-02-03' '2018-02-04' '2018-02-05'\n",
      " '2018-02-06' '2018-02-07' '2018-02-08' '2018-02-09']\n"
     ]
    },
    {
     "data": {
      "text/plain": [
       "array([ True,  True, False, False,  True,  True,  True,  True,  True])"
      ]
     },
     "execution_count": 85,
     "metadata": {},
     "output_type": "execute_result"
    }
   ],
   "source": [
    "dates = np.arange(np.datetime64('2018-02-01'), np.datetime64('2018-02-10'))\n",
    "print(dates)\n",
    "np.is_busday(dates)"
   ]
  },
  {
   "cell_type": "markdown",
   "metadata": {
    "hidden": true
   },
   "source": [
    "### Como converter numpy.datetime64 para um objeto datetime.datime"
   ]
  },
  {
   "cell_type": "code",
   "execution_count": 86,
   "metadata": {
    "hidden": true
   },
   "outputs": [
    {
     "data": {
      "text/plain": [
       "datetime.date(2018, 2, 4)"
      ]
     },
     "execution_count": 86,
     "metadata": {},
     "output_type": "execute_result"
    }
   ],
   "source": [
    "import datetime\n",
    "dt = dt64.tolist()\n",
    "dt"
   ]
  },
  {
   "cell_type": "markdown",
   "metadata": {
    "hidden": true
   },
   "source": [
    "Depois de convertê-lo para um objeto <code>datetime.date</code>, você tem muito mais facilidades para extrair o dia do mês, mês do ano etc."
   ]
  },
  {
   "cell_type": "code",
   "execution_count": 87,
   "metadata": {
    "hidden": true
   },
   "outputs": [
    {
     "name": "stdout",
     "output_type": "stream",
     "text": [
      "Ano:  2018\n",
      "Dia do mês:  4\n",
      "Mês do ano:  2\n",
      "dia da semana:  6\n"
     ]
    }
   ],
   "source": [
    "print('Ano: ', dt.year)  \n",
    "print('Dia do mês: ', dt.day)\n",
    "print('Mês do ano: ', dt.month)  \n",
    "print('dia da semana: ', dt.weekday())"
   ]
  },
  {
   "cell_type": "markdown",
   "metadata": {
    "heading_collapsed": true
   },
   "source": [
    "## Funções numpy avançadas"
   ]
  },
  {
   "cell_type": "markdown",
   "metadata": {
    "hidden": true
   },
   "source": [
    "### _Vectorize_ - Utilizando uma função escalar como vetor"
   ]
  },
  {
   "cell_type": "markdown",
   "metadata": {
    "hidden": true
   },
   "source": [
    "Com a ajuda de <code>vectorize()</code>, você pode fazer uma função que funciona para um número ou um array.\n",
    "\n",
    "Vamos ver um exemplo.\n",
    "\n",
    "A função <code>foo</code> aceita um número e eleva ao quadrado se for ímpar senão ele o divide por 2.\n",
    "\n",
    "Quando você aplica essa função em um escalar (números individuais), ela funciona perfeitamente, mas falha quando aplicada em um array.\n",
    "\n",
    "Com o <code>vectorize()</code> do numpy, você pode \"magicamente\" fazê-lo funcionar em matrizes também.\n"
   ]
  },
  {
   "cell_type": "code",
   "execution_count": 88,
   "metadata": {
    "hidden": true
   },
   "outputs": [
    {
     "name": "stdout",
     "output_type": "stream",
     "text": [
      "x = 10 retorna  5.0\n",
      "x = 11 retorna 121\n"
     ]
    }
   ],
   "source": [
    "def foo(x):\n",
    "    if x % 2 == 1:\n",
    "        return x**2\n",
    "    else:\n",
    "        return x/2\n",
    "    \n",
    "print('x = 10 retorna ', foo(10))\n",
    "print('x = 11 retorna', foo(11))"
   ]
  },
  {
   "cell_type": "markdown",
   "metadata": {
    "hidden": true
   },
   "source": [
    "Vamos alterar para que a função <code>foo()</code> funcione em arrays."
   ]
  },
  {
   "cell_type": "code",
   "execution_count": 89,
   "metadata": {
    "hidden": true
   },
   "outputs": [
    {
     "name": "stdout",
     "output_type": "stream",
     "text": [
      "x = [10, 11, 12] retorna  [  5. 121.   6.]\n",
      "x = [[10, 11, 12], [1, 2, 3]] retorna  [[  5. 121.   6.]\n",
      " [  1.   1.   9.]]\n"
     ]
    }
   ],
   "source": [
    "foo_v = np.vectorize(foo, otypes=[float])\n",
    "\n",
    "print('x = [10, 11, 12] retorna ', foo_v([10, 11, 12]))\n",
    "print('x = [[10, 11, 12], [1, 2, 3]] retorna ', foo_v([[10, 11, 12], [1, 2, 3]]))"
   ]
  },
  {
   "cell_type": "markdown",
   "metadata": {
    "hidden": true
   },
   "source": [
    "Isso pode ser muito útil sempre que você quiser fazer uma função escalar funcionar em um array.\n",
    "\n",
    "<code>Vectorize()</code> também aceita um parâmetro opcional _otypes_ onde você fornece o tipo de dados da saída. Isso faz com que a função vetorizada seja executada mais rapidamente.\n"
   ]
  },
  {
   "cell_type": "markdown",
   "metadata": {
    "hidden": true
   },
   "source": [
    "### Apply\\_along\\_axis - Usando Column Wise e Row wise"
   ]
  },
  {
   "cell_type": "markdown",
   "metadata": {
    "hidden": true
   },
   "source": [
    "Vamos criar primeiro um array 2D para mostrar como funciona isso."
   ]
  },
  {
   "cell_type": "code",
   "execution_count": 90,
   "metadata": {
    "hidden": true
   },
   "outputs": [
    {
     "data": {
      "text/plain": [
       "array([[9, 9, 4, 8, 8, 1, 5, 3, 6, 3],\n",
       "       [3, 3, 2, 1, 9, 5, 1, 7, 3, 5],\n",
       "       [2, 6, 4, 5, 5, 4, 8, 2, 2, 8],\n",
       "       [8, 1, 3, 4, 3, 6, 9, 2, 1, 8]])"
      ]
     },
     "execution_count": 90,
     "metadata": {},
     "output_type": "execute_result"
    }
   ],
   "source": [
    "np.random.seed(100)\n",
    "arr_x = np.random.randint(1,10,size=[4,10])\n",
    "arr_x"
   ]
  },
  {
   "cell_type": "markdown",
   "metadata": {
    "hidden": true
   },
   "source": [
    "Vamos entender resolvendo a seguinte questão:\n",
    "*Como encontrar a diferença do valor máximo e mínimo em cada linha?*\n",
    "\n",
    "Bem, a abordagem normal seria escrever um <code>for-loop</code> para iterar ao longo de cada linha e, em seguida, calcular o max-min em cada iteração.\n",
    "\n",
    "Isso parece ser uma boa solução, mas pode ser complicado se você quiser fazer na mesma coluna ou quiser implementar uma operação mais complexa. Além disso, pode você precisará fazer mais códigos.\n",
    "\n",
    "Você pode fazer isso elegantemente usando o numpy.apply_along_axis.\n",
    "\n",
    "Leva como argumentos:\n",
    "\n",
    "1. Função que funciona em um vetor 1D \\[<code>(fund1d)</code>\\]\n",
    "2. Eixo ao longo do qual aplicar <code>func1d</code>. Para um array 2D, 1 é em linha e 0 é em coluna.\n",
    "3. Array em que <code>(fund1d)</code> deve ser aplicado.\n",
    "\n",
    "Vamos implementar isso."
   ]
  },
  {
   "cell_type": "code",
   "execution_count": 91,
   "metadata": {
    "hidden": true
   },
   "outputs": [
    {
     "name": "stdout",
     "output_type": "stream",
     "text": [
      "Ao longo da linha:  [8 8 6 8]\n",
      "Ao longo da coluna:  [7 8 2 7 6 5 8 5 5 5]\n"
     ]
    }
   ],
   "source": [
    "def max_minus_min(x):\n",
    "    return np.max(x) - np.min(x)\n",
    "\n",
    "print('Ao longo da linha: ', np.apply_along_axis(max_minus_min, 1, arr=arr_x))\n",
    "\n",
    "print('Ao longo da coluna: ', np.apply_along_axis(max_minus_min, 0, arr=arr_x))"
   ]
  },
  {
   "cell_type": "markdown",
   "metadata": {
    "hidden": true
   },
   "source": [
    "### _Searchsorted_ - Encontrole local para inserir na matriz mantendo a organização"
   ]
  },
  {
   "cell_type": "markdown",
   "metadata": {
    "hidden": true
   },
   "source": [
    "O que <code>numpy.searchsorted</code> faz?\n",
    "\n",
    "Ele fornece a posição do índice na qual um número deve ser inserido para manter o array ordenado. Exemplo:"
   ]
  },
  {
   "cell_type": "code",
   "execution_count": 92,
   "metadata": {
    "hidden": true
   },
   "outputs": [
    {
     "name": "stdout",
     "output_type": "stream",
     "text": [
      "[0 1 2 3 4 5 6 7 8 9]\n",
      "Onde o 5 deveria ser inserido?:  5\n",
      "Onde o 5 deveria ser inserido (direita)?:  6\n"
     ]
    }
   ],
   "source": [
    "x = np.arange(10)\n",
    "print(x)\n",
    "print('Onde o 5 deveria ser inserido?: ', np.searchsorted(x, 5))\n",
    "print('Onde o 5 deveria ser inserido (direita)?: ', np.searchsorted(x, 5, side='right'))"
   ]
  },
  {
   "cell_type": "markdown",
   "metadata": {
    "hidden": true
   },
   "source": [
    "Você pode usar o <code>searchsorted</code> para fazer elementos de amostragem com probabilidades. É muito mais rápido que o <code>np.choice</code>."
   ]
  },
  {
   "cell_type": "code",
   "execution_count": 93,
   "metadata": {
    "hidden": true
   },
   "outputs": [
    {
     "name": "stdout",
     "output_type": "stream",
     "text": [
      "30.2 µs ± 323 ns per loop (mean ± std. dev. of 7 runs, 10000 loops each)\n",
      "1.25 ms ± 73.9 µs per loop (mean ± std. dev. of 7 runs, 1000 loops each)\n"
     ]
    }
   ],
   "source": [
    "lst = range(10000)  \n",
    "probs = np.random.random(10000); probs /= probs.sum()\n",
    "\n",
    "%timeit lst[np.searchsorted(probs.cumsum(), np.random.random())]\n",
    "%timeit np.random.choice(lst, p=probs)"
   ]
  },
  {
   "cell_type": "markdown",
   "metadata": {
    "hidden": true
   },
   "source": [
    "### Como adicionar um eixo novo em um numpy array"
   ]
  },
  {
   "cell_type": "markdown",
   "metadata": {
    "hidden": true
   },
   "source": [
    "Às vezes, você pode querer converter um array 1D em um 2D (como uma planilha) sem adicionar dados adicionais.\n",
    "\n",
    "Você pode precisar disso em um array 1D como uma única coluna em um arquivo csv ou talvez queira concatená-la com outro array de forma semelhante.\n",
    "\n",
    "Seja qual for o motivo, você pode fazer isso inserindo um novo eixo usando <code>np.newaxis</code>.\n",
    "\n",
    "Na verdade, usando isso, você pode elevar uma matriz de uma dimensão inferior para uma dimensão maior."
   ]
  },
  {
   "cell_type": "code",
   "execution_count": 94,
   "metadata": {
    "hidden": true
   },
   "outputs": [
    {
     "name": "stdout",
     "output_type": "stream",
     "text": [
      "Array Original:  [0 1 2 3 4]\n",
      "Forma da x_coluna:  (5, 1)\n",
      "[[0]\n",
      " [1]\n",
      " [2]\n",
      " [3]\n",
      " [4]]\n",
      "Forma da x_linha:  (1, 5)\n",
      "[[0 1 2 3 4]]\n"
     ]
    }
   ],
   "source": [
    "x = np.arange(5)\n",
    "print('Array Original: ', x)\n",
    "\n",
    "x_col = x[:, np.newaxis] # Introduzindo um novo eixo coluna\n",
    "print('Forma da x_coluna: ', x_col.shape)\n",
    "print(x_col)\n",
    "\n",
    "x_row = x[np.newaxis, :] #Introduzindo um novo eixo linha\n",
    "print('Forma da x_linha: ', x_row.shape)\n",
    "print(x_row)"
   ]
  },
  {
   "cell_type": "markdown",
   "metadata": {
    "hidden": true
   },
   "source": [
    "### Mais funções úteis"
   ]
  },
  {
   "cell_type": "markdown",
   "metadata": {
    "hidden": true
   },
   "source": [
    "#### Digitize"
   ]
  },
  {
   "cell_type": "markdown",
   "metadata": {
    "hidden": true
   },
   "source": [
    "Use <code>np.digitize</code> para retornar a posição do índice do _bin_ a que cada elemento pertence."
   ]
  },
  {
   "cell_type": "code",
   "execution_count": 95,
   "metadata": {
    "hidden": true
   },
   "outputs": [
    {
     "name": "stdout",
     "output_type": "stream",
     "text": [
      "[0 1 2 3 4 5 6 7 8 9]\n"
     ]
    },
    {
     "data": {
      "text/plain": [
       "array([1, 1, 1, 2, 2, 2, 3, 3, 3, 4])"
      ]
     },
     "execution_count": 95,
     "metadata": {},
     "output_type": "execute_result"
    }
   ],
   "source": [
    "x = np.arange(10)\n",
    "print(x)\n",
    "bins = np.array([0, 3, 6, 9])\n",
    "\n",
    "np.digitize(x, bins)"
   ]
  },
  {
   "cell_type": "markdown",
   "metadata": {
    "hidden": true
   },
   "source": [
    "#### Clip"
   ]
  },
  {
   "cell_type": "markdown",
   "metadata": {
    "hidden": true
   },
   "source": [
    "Use <code>np.clip</code> para limitar os números dentro de um determinado intervalo de corte. Todos os números menores que o limite inferior serão substituídos pelo limite inferior. O mesmo se aplica ao limite superior."
   ]
  },
  {
   "cell_type": "code",
   "execution_count": 96,
   "metadata": {
    "hidden": true
   },
   "outputs": [
    {
     "data": {
      "text/plain": [
       "array([3, 3, 3, 3, 4, 5, 6, 7, 8, 8])"
      ]
     },
     "execution_count": 96,
     "metadata": {},
     "output_type": "execute_result"
    }
   ],
   "source": [
    "np.clip(x, 3, 8)"
   ]
  },
  {
   "cell_type": "markdown",
   "metadata": {
    "hidden": true
   },
   "source": [
    "#### Histogram and Bincount"
   ]
  },
  {
   "cell_type": "markdown",
   "metadata": {
    "hidden": true
   },
   "source": [
    "Tanto o <code>histograma()</code> quanto o <code>bincount()</code> fornecem a frequência das ocorrências, mas com certas diferenças.\n",
    "\n",
    "Enquanto o <code>histograma()</code> fornece a contagem da freqüência dos _Bins_, <code>bincount()</code> fornece a contagem de freqüência de todos os elementos no intervalo do array entre os valores mínimo e máximo. Incluindo os valores que não ocorreram."
   ]
  },
  {
   "cell_type": "code",
   "execution_count": 97,
   "metadata": {
    "hidden": true
   },
   "outputs": [
    {
     "name": "stdout",
     "output_type": "stream",
     "text": [
      "[0 2 3 0 2 1 3]\n",
      "Contagem:  [2 3 2 1 3]\n",
      "Bins:  [0 2 4 5 6 8]\n"
     ]
    }
   ],
   "source": [
    "x = np.array([1,1,2,2,2,4,4,5,6,6,6])\n",
    "print (np.bincount(x))\n",
    "\n",
    "counts, bins = np.histogram(x, [0, 2, 4, 5, 6, 8])\n",
    "print('Contagem: ', counts)\n",
    "print('Bins: ', bins)"
   ]
  },
  {
   "cell_type": "markdown",
   "metadata": {
    "heading_collapsed": true
   },
   "source": [
    "## O que falta no numpy"
   ]
  },
  {
   "cell_type": "markdown",
   "metadata": {
    "hidden": true
   },
   "source": [
    "Até agora nós cobrimos um bom número de técnicas para fazer manipulações de dados com numpy. Mas há um número considerável de coisas que você não pode fazer diretamente com a numpy. Pelo menos para o meu conhecimento limitado. Deixe-me listar alguns:\n",
    "- Nenhuma função direta para mesclar dois arrays 2D com base em uma coluna comum.\n",
    "- Criar diretamente tabelas dinâmicas\n",
    "- Nenhuma maneira direta de fazer tabulações cruzadas 2D.\n",
    "- Nenhum método direto para calcular estatísticas (como média) agrupadas por valores exclusivos em uma matriz.\n",
    "- E mais..\n",
    "\n",
    "Bem, a razão pela qual estou lhe dizendo isso é que essas deficiências são bem tratadas pela espetacular biblioteca de pandas, sobre a qual falaremos no próximo curso de pandas.\n"
   ]
  },
  {
   "cell_type": "code",
   "execution_count": 99,
   "metadata": {},
   "outputs": [],
   "source": [
    "arr = np.array([1,2,3,4])"
   ]
  },
  {
   "cell_type": "code",
   "execution_count": 103,
   "metadata": {},
   "outputs": [
    {
     "ename": "AttributeError",
     "evalue": "'numpy.ndarray' object has no attribute 'append'",
     "output_type": "error",
     "traceback": [
      "\u001b[0;31m---------------------------------------------------------------------------\u001b[0m",
      "\u001b[0;31mAttributeError\u001b[0m                            Traceback (most recent call last)",
      "\u001b[0;32m<ipython-input-103-dc534148bd34>\u001b[0m in \u001b[0;36m<module>\u001b[0;34m\u001b[0m\n\u001b[0;32m----> 1\u001b[0;31m \u001b[0marr\u001b[0m\u001b[0;34m.\u001b[0m\u001b[0mappend\u001b[0m\u001b[0;34m(\u001b[0m\u001b[0marr\u001b[0m\u001b[0;34m)\u001b[0m\u001b[0;34m\u001b[0m\u001b[0;34m\u001b[0m\u001b[0m\n\u001b[0m",
      "\u001b[0;31mAttributeError\u001b[0m: 'numpy.ndarray' object has no attribute 'append'"
     ]
    }
   ],
   "source": [
    "arr."
   ]
  },
  {
   "cell_type": "code",
   "execution_count": null,
   "metadata": {},
   "outputs": [],
   "source": []
  }
 ],
 "metadata": {
  "kernelspec": {
   "display_name": "Python 3",
   "language": "python",
   "name": "python3"
  },
  "language_info": {
   "codemirror_mode": {
    "name": "ipython",
    "version": 3
   },
   "file_extension": ".py",
   "mimetype": "text/x-python",
   "name": "python",
   "nbconvert_exporter": "python",
   "pygments_lexer": "ipython3",
   "version": "3.6.8"
  }
 },
 "nbformat": 4,
 "nbformat_minor": 2
}
